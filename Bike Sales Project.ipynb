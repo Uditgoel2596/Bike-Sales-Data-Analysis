{
 "cells": [
  {
   "cell_type": "code",
   "execution_count": null,
   "id": "da189484-948a-4a32-b47d-c57fc8fb0506",
   "metadata": {},
   "outputs": [],
   "source": [
    "#                                                   ------------------Bikes Sales Data----------------------"
   ]
  },
  {
   "cell_type": "code",
   "execution_count": 3,
   "id": "614d2509-10d0-4d03-b886-17dce3a73c88",
   "metadata": {},
   "outputs": [],
   "source": [
    "# Importing some python libraries for cleaning,analysing and representing the data.\n",
    "import numpy as np\n",
    "import pandas as pd\n",
    "import matplotlib.pyplot as plt\n",
    "import seaborn as sns"
   ]
  },
  {
   "cell_type": "code",
   "execution_count": null,
   "id": "fd9efe1c-6f3f-4906-8607-d35a5db2c0da",
   "metadata": {},
   "outputs": [],
   "source": []
  },
  {
   "cell_type": "code",
   "execution_count": 173,
   "id": "7f4227a5-db6b-40e4-aed1-b3d92026581a",
   "metadata": {},
   "outputs": [],
   "source": [
    "# read data by using pd.read_excel\n",
    "df = pd.read_excel(r\"C:\\Users\\HP\\Desktop\\uncleaned bike sales data.xlsx\")"
   ]
  },
  {
   "cell_type": "code",
   "execution_count": 6,
   "id": "c6c5c2e5-56f5-4a88-aebf-04d6113d6f8b",
   "metadata": {},
   "outputs": [
    {
     "data": {
      "text/html": [
       "<div>\n",
       "<style scoped>\n",
       "    .dataframe tbody tr th:only-of-type {\n",
       "        vertical-align: middle;\n",
       "    }\n",
       "\n",
       "    .dataframe tbody tr th {\n",
       "        vertical-align: top;\n",
       "    }\n",
       "\n",
       "    .dataframe thead th {\n",
       "        text-align: right;\n",
       "    }\n",
       "</style>\n",
       "<table border=\"1\" class=\"dataframe\">\n",
       "  <thead>\n",
       "    <tr style=\"text-align: right;\">\n",
       "      <th></th>\n",
       "      <th>Sales_Order #</th>\n",
       "      <th>Date</th>\n",
       "      <th>Day</th>\n",
       "      <th>Month</th>\n",
       "      <th>Year</th>\n",
       "      <th>Customer_Age</th>\n",
       "      <th>Age_Group</th>\n",
       "      <th>Customer_Gender</th>\n",
       "      <th>Country</th>\n",
       "      <th>State</th>\n",
       "      <th>Product_Category</th>\n",
       "      <th>Sub_Category</th>\n",
       "      <th>Product_Description</th>\n",
       "      <th>Order_Quantity</th>\n",
       "      <th>Unit_Cost</th>\n",
       "      <th>Unit_Price</th>\n",
       "      <th>Profit</th>\n",
       "      <th>Cost</th>\n",
       "      <th>Revenue</th>\n",
       "    </tr>\n",
       "  </thead>\n",
       "  <tbody>\n",
       "    <tr>\n",
       "      <th>0</th>\n",
       "      <td>261695</td>\n",
       "      <td>2021-12-01</td>\n",
       "      <td>1.0</td>\n",
       "      <td>December</td>\n",
       "      <td>2021</td>\n",
       "      <td>39</td>\n",
       "      <td>Adults (35-64)</td>\n",
       "      <td>F</td>\n",
       "      <td>United States</td>\n",
       "      <td>California</td>\n",
       "      <td>Bikes</td>\n",
       "      <td>Mountain Bikes</td>\n",
       "      <td>Mountain-200 Black, 46</td>\n",
       "      <td>4.0</td>\n",
       "      <td>1252</td>\n",
       "      <td>2295</td>\n",
       "      <td>4172</td>\n",
       "      <td>5008</td>\n",
       "      <td>9180</td>\n",
       "    </tr>\n",
       "    <tr>\n",
       "      <th>1</th>\n",
       "      <td>261695</td>\n",
       "      <td>2021-12-01</td>\n",
       "      <td>1.0</td>\n",
       "      <td>December</td>\n",
       "      <td>2021</td>\n",
       "      <td>44</td>\n",
       "      <td>Adults (35-64)</td>\n",
       "      <td>M</td>\n",
       "      <td>United Kingdom</td>\n",
       "      <td>England</td>\n",
       "      <td>Bikes</td>\n",
       "      <td>Mountain Bikes</td>\n",
       "      <td>Mountain-200 Silver, 42</td>\n",
       "      <td>1.0</td>\n",
       "      <td>1266</td>\n",
       "      <td>2320</td>\n",
       "      <td>1054</td>\n",
       "      <td>1266</td>\n",
       "      <td>2320</td>\n",
       "    </tr>\n",
       "    <tr>\n",
       "      <th>2</th>\n",
       "      <td>261697</td>\n",
       "      <td>2021-12-02</td>\n",
       "      <td>2.0</td>\n",
       "      <td>December</td>\n",
       "      <td>2021</td>\n",
       "      <td>37</td>\n",
       "      <td>Adults (35-64)</td>\n",
       "      <td>M</td>\n",
       "      <td>United States</td>\n",
       "      <td>California</td>\n",
       "      <td>Bikes</td>\n",
       "      <td>Mountain Bikes</td>\n",
       "      <td>Mountain-400-W Silver, 46</td>\n",
       "      <td>2.0</td>\n",
       "      <td>420</td>\n",
       "      <td>769</td>\n",
       "      <td>698</td>\n",
       "      <td>840</td>\n",
       "      <td>1538</td>\n",
       "    </tr>\n",
       "    <tr>\n",
       "      <th>3</th>\n",
       "      <td>261698</td>\n",
       "      <td>2021-12-02</td>\n",
       "      <td>2.0</td>\n",
       "      <td>December</td>\n",
       "      <td>2021</td>\n",
       "      <td>31</td>\n",
       "      <td>Young Adults (25-34)</td>\n",
       "      <td>F</td>\n",
       "      <td>Australia</td>\n",
       "      <td>New South Wales</td>\n",
       "      <td>Bikes</td>\n",
       "      <td>Mountain Bikes</td>\n",
       "      <td>Mountain-400-W Silver, 42</td>\n",
       "      <td>1.0</td>\n",
       "      <td>420</td>\n",
       "      <td>769</td>\n",
       "      <td>349</td>\n",
       "      <td>420</td>\n",
       "      <td>769</td>\n",
       "    </tr>\n",
       "    <tr>\n",
       "      <th>4</th>\n",
       "      <td>261699</td>\n",
       "      <td>2021-12-03</td>\n",
       "      <td>3.0</td>\n",
       "      <td>December</td>\n",
       "      <td>2021</td>\n",
       "      <td>37</td>\n",
       "      <td>Adults (35-64)</td>\n",
       "      <td>F</td>\n",
       "      <td>United  States</td>\n",
       "      <td>California</td>\n",
       "      <td>Bikes</td>\n",
       "      <td>Mountain Bikes</td>\n",
       "      <td>Mountain-200 Black, 46</td>\n",
       "      <td>2.0</td>\n",
       "      <td>0</td>\n",
       "      <td>2295</td>\n",
       "      <td>2086</td>\n",
       "      <td>0</td>\n",
       "      <td>4590</td>\n",
       "    </tr>\n",
       "  </tbody>\n",
       "</table>\n",
       "</div>"
      ],
      "text/plain": [
       "   Sales_Order #       Date  Day     Month  Year  Customer_Age  \\\n",
       "0         261695 2021-12-01  1.0  December  2021            39   \n",
       "1         261695 2021-12-01  1.0  December  2021            44   \n",
       "2         261697 2021-12-02  2.0  December  2021            37   \n",
       "3         261698 2021-12-02  2.0  December  2021            31   \n",
       "4         261699 2021-12-03  3.0  December  2021            37   \n",
       "\n",
       "              Age_Group Customer_Gender         Country            State  \\\n",
       "0        Adults (35-64)               F   United States       California   \n",
       "1        Adults (35-64)               M  United Kingdom          England   \n",
       "2        Adults (35-64)               M   United States       California   \n",
       "3  Young Adults (25-34)               F       Australia  New South Wales   \n",
       "4        Adults (35-64)               F  United  States       California   \n",
       "\n",
       "  Product_Category    Sub_Category        Product_Description  Order_Quantity  \\\n",
       "0            Bikes  Mountain Bikes     Mountain-200 Black, 46             4.0   \n",
       "1            Bikes  Mountain Bikes    Mountain-200 Silver, 42             1.0   \n",
       "2            Bikes  Mountain Bikes  Mountain-400-W Silver, 46             2.0   \n",
       "3            Bikes  Mountain Bikes  Mountain-400-W Silver, 42             1.0   \n",
       "4            Bikes  Mountain Bikes     Mountain-200 Black, 46             2.0   \n",
       "\n",
       "    Unit_Cost    Unit_Price    Profit    Cost   Revenue  \n",
       "0         1252          2295      4172    5008     9180  \n",
       "1         1266          2320      1054    1266     2320  \n",
       "2          420           769       698     840     1538  \n",
       "3          420           769       349     420      769  \n",
       "4            0          2295      2086       0     4590  "
      ]
     },
     "execution_count": 6,
     "metadata": {},
     "output_type": "execute_result"
    }
   ],
   "source": [
    "# first five rows\n",
    "df.head()"
   ]
  },
  {
   "cell_type": "code",
   "execution_count": null,
   "id": "2d2a1afc-ee5c-48c1-8bec-a3e43dbf4fab",
   "metadata": {},
   "outputs": [],
   "source": []
  },
  {
   "cell_type": "code",
   "execution_count": 9,
   "id": "35d6b25d-76af-4b03-944b-44470dcd8117",
   "metadata": {},
   "outputs": [
    {
     "data": {
      "text/plain": [
       "Index(['Sales_Order #', 'Date', 'Day', 'Month', 'Year', 'Customer_Age',\n",
       "       'Age_Group', 'Customer_Gender', 'Country', 'State', 'Product_Category',\n",
       "       'Sub_Category', 'Product_Description', 'Order_Quantity', 'Unit_Cost',\n",
       "       'Unit_Price', 'Profit', 'Cost', 'Revenue'],\n",
       "      dtype='object')"
      ]
     },
     "execution_count": 9,
     "metadata": {},
     "output_type": "execute_result"
    }
   ],
   "source": [
    "# remove spaces in columns.\n",
    "df.columns = df.columns.str.strip()\n",
    "df.columns"
   ]
  },
  {
   "cell_type": "code",
   "execution_count": null,
   "id": "78596882-76a4-47d0-b5d1-f15ec343be54",
   "metadata": {},
   "outputs": [],
   "source": []
  },
  {
   "cell_type": "code",
   "execution_count": 10,
   "id": "a7c9a1f2-c4a4-48c8-9ffe-0679e25e651b",
   "metadata": {},
   "outputs": [],
   "source": [
    "# copy dataframe\n",
    "tem_df = df.copy()"
   ]
  },
  {
   "cell_type": "code",
   "execution_count": 12,
   "id": "b11e9582-3b7a-4e23-ad84-dcbf0c36c1ee",
   "metadata": {},
   "outputs": [
    {
     "data": {
      "text/plain": [
       "Sales_Order #          0\n",
       "Date                   0\n",
       "Day                    1\n",
       "Month                  0\n",
       "Year                   0\n",
       "Customer_Age           0\n",
       "Age_Group              1\n",
       "Customer_Gender        0\n",
       "Country                0\n",
       "State                  0\n",
       "Product_Category       0\n",
       "Sub_Category           0\n",
       "Product_Description    1\n",
       "Order_Quantity         1\n",
       "Unit_Cost              0\n",
       "Unit_Price             0\n",
       "Profit                 0\n",
       "Cost                   0\n",
       "Revenue                0\n",
       "dtype: int64"
      ]
     },
     "execution_count": 12,
     "metadata": {},
     "output_type": "execute_result"
    }
   ],
   "source": [
    "#Scanning data for nan,null or duplicated values.\n",
    "tem_df.isnull().sum()"
   ]
  },
  {
   "cell_type": "code",
   "execution_count": 19,
   "id": "32edfb9a-6c9f-45c4-a6eb-d492f1f64b5b",
   "metadata": {},
   "outputs": [
    {
     "data": {
      "text/plain": [
       "'4'"
      ]
     },
     "execution_count": 19,
     "metadata": {},
     "output_type": "execute_result"
    }
   ],
   "source": [
    "format(tem_df.isnull().sum().sum())"
   ]
  },
  {
   "cell_type": "code",
   "execution_count": 15,
   "id": "cd20ddf2-ee62-4958-a5ad-8e3262202792",
   "metadata": {},
   "outputs": [
    {
     "data": {
      "text/plain": [
       "0"
      ]
     },
     "execution_count": 15,
     "metadata": {},
     "output_type": "execute_result"
    }
   ],
   "source": [
    "tem_df.duplicated().sum()"
   ]
  },
  {
   "cell_type": "code",
   "execution_count": 20,
   "id": "e5f82411-2a0b-45ac-9ff7-da3e278b7d92",
   "metadata": {},
   "outputs": [
    {
     "name": "stdout",
     "output_type": "stream",
     "text": [
      "<class 'pandas.core.frame.DataFrame'>\n",
      "RangeIndex: 89 entries, 0 to 88\n",
      "Data columns (total 19 columns):\n",
      " #   Column               Non-Null Count  Dtype         \n",
      "---  ------               --------------  -----         \n",
      " 0   Sales_Order #        89 non-null     int64         \n",
      " 1   Date                 89 non-null     datetime64[ns]\n",
      " 2   Day                  88 non-null     float64       \n",
      " 3   Month                89 non-null     object        \n",
      " 4   Year                 89 non-null     int64         \n",
      " 5   Customer_Age         89 non-null     int64         \n",
      " 6   Age_Group            88 non-null     object        \n",
      " 7   Customer_Gender      89 non-null     object        \n",
      " 8   Country              89 non-null     object        \n",
      " 9   State                89 non-null     object        \n",
      " 10  Product_Category     89 non-null     object        \n",
      " 11  Sub_Category         89 non-null     object        \n",
      " 12  Product_Description  88 non-null     object        \n",
      " 13  Order_Quantity       88 non-null     float64       \n",
      " 14  Unit_Cost            89 non-null     int64         \n",
      " 15  Unit_Price           89 non-null     int64         \n",
      " 16  Profit               89 non-null     int64         \n",
      " 17  Cost                 89 non-null     int64         \n",
      " 18  Revenue              89 non-null     int64         \n",
      "dtypes: datetime64[ns](1), float64(2), int64(8), object(8)\n",
      "memory usage: 13.3+ KB\n"
     ]
    }
   ],
   "source": [
    "tem_df.info()"
   ]
  },
  {
   "cell_type": "code",
   "execution_count": 33,
   "id": "dbf703f9-5537-48f9-b5bb-a5080a0bcc2c",
   "metadata": {},
   "outputs": [
    {
     "data": {
      "text/html": [
       "<div>\n",
       "<style scoped>\n",
       "    .dataframe tbody tr th:only-of-type {\n",
       "        vertical-align: middle;\n",
       "    }\n",
       "\n",
       "    .dataframe tbody tr th {\n",
       "        vertical-align: top;\n",
       "    }\n",
       "\n",
       "    .dataframe thead th {\n",
       "        text-align: right;\n",
       "    }\n",
       "</style>\n",
       "<table border=\"1\" class=\"dataframe\">\n",
       "  <thead>\n",
       "    <tr style=\"text-align: right;\">\n",
       "      <th></th>\n",
       "      <th>Sales_Order #</th>\n",
       "      <th>Date</th>\n",
       "      <th>Day</th>\n",
       "      <th>Month</th>\n",
       "      <th>Year</th>\n",
       "      <th>Customer_Age</th>\n",
       "      <th>Age_Group</th>\n",
       "      <th>Customer_Gender</th>\n",
       "      <th>Country</th>\n",
       "      <th>State</th>\n",
       "      <th>Product_Category</th>\n",
       "      <th>Sub_Category</th>\n",
       "      <th>Product_Description</th>\n",
       "      <th>Order_Quantity</th>\n",
       "      <th>Unit_Cost</th>\n",
       "      <th>Unit_Price</th>\n",
       "      <th>Profit</th>\n",
       "      <th>Cost</th>\n",
       "      <th>Revenue</th>\n",
       "    </tr>\n",
       "  </thead>\n",
       "  <tbody>\n",
       "    <tr>\n",
       "      <th>10</th>\n",
       "      <td>261704</td>\n",
       "      <td>2021-12-05</td>\n",
       "      <td>NaN</td>\n",
       "      <td>December</td>\n",
       "      <td>2021</td>\n",
       "      <td>42</td>\n",
       "      <td>Adults (35-64)</td>\n",
       "      <td>M</td>\n",
       "      <td>Germany</td>\n",
       "      <td>Nordrhein-Westfalen</td>\n",
       "      <td>Bikes</td>\n",
       "      <td>Mountain Bikes</td>\n",
       "      <td>Mountain-200 Black, 38</td>\n",
       "      <td>4.0</td>\n",
       "      <td>1252</td>\n",
       "      <td>2295</td>\n",
       "      <td>4172</td>\n",
       "      <td>5008</td>\n",
       "      <td>9180</td>\n",
       "    </tr>\n",
       "    <tr>\n",
       "      <th>15</th>\n",
       "      <td>261709</td>\n",
       "      <td>2021-12-06</td>\n",
       "      <td>6.0</td>\n",
       "      <td>December</td>\n",
       "      <td>2021</td>\n",
       "      <td>36</td>\n",
       "      <td>NaN</td>\n",
       "      <td>M</td>\n",
       "      <td>Australia</td>\n",
       "      <td>New South Wales</td>\n",
       "      <td>Bikes</td>\n",
       "      <td>Mountain Bikes</td>\n",
       "      <td>Mountain-200 Black, 42</td>\n",
       "      <td>1.0</td>\n",
       "      <td>1252</td>\n",
       "      <td>2295</td>\n",
       "      <td>1043</td>\n",
       "      <td>1252</td>\n",
       "      <td>2295</td>\n",
       "    </tr>\n",
       "    <tr>\n",
       "      <th>21</th>\n",
       "      <td>261715</td>\n",
       "      <td>2021-12-08</td>\n",
       "      <td>8.0</td>\n",
       "      <td>December</td>\n",
       "      <td>2021</td>\n",
       "      <td>39</td>\n",
       "      <td>Adults (35-64)</td>\n",
       "      <td>F</td>\n",
       "      <td>United States</td>\n",
       "      <td>Oregon</td>\n",
       "      <td>Bikes</td>\n",
       "      <td>Mountain Bikes</td>\n",
       "      <td>NaN</td>\n",
       "      <td>2.0</td>\n",
       "      <td>1252</td>\n",
       "      <td>2295</td>\n",
       "      <td>2086</td>\n",
       "      <td>2504</td>\n",
       "      <td>4590</td>\n",
       "    </tr>\n",
       "    <tr>\n",
       "      <th>22</th>\n",
       "      <td>261716</td>\n",
       "      <td>2021-12-08</td>\n",
       "      <td>8.0</td>\n",
       "      <td>December</td>\n",
       "      <td>2021</td>\n",
       "      <td>35</td>\n",
       "      <td>Adults (35-64)</td>\n",
       "      <td>F</td>\n",
       "      <td>United States</td>\n",
       "      <td>California</td>\n",
       "      <td>Bikes</td>\n",
       "      <td>Mountain Bikes</td>\n",
       "      <td>Mountain-500 Black, 42</td>\n",
       "      <td>NaN</td>\n",
       "      <td>295</td>\n",
       "      <td>540</td>\n",
       "      <td>245</td>\n",
       "      <td>0</td>\n",
       "      <td>0</td>\n",
       "    </tr>\n",
       "  </tbody>\n",
       "</table>\n",
       "</div>"
      ],
      "text/plain": [
       "    Sales_Order #       Date  Day     Month  Year  Customer_Age  \\\n",
       "10         261704 2021-12-05  NaN  December  2021            42   \n",
       "15         261709 2021-12-06  6.0  December  2021            36   \n",
       "21         261715 2021-12-08  8.0  December  2021            39   \n",
       "22         261716 2021-12-08  8.0  December  2021            35   \n",
       "\n",
       "         Age_Group Customer_Gender        Country                State  \\\n",
       "10  Adults (35-64)               M        Germany  Nordrhein-Westfalen   \n",
       "15             NaN               M      Australia      New South Wales   \n",
       "21  Adults (35-64)               F  United States               Oregon   \n",
       "22  Adults (35-64)               F  United States           California   \n",
       "\n",
       "   Product_Category    Sub_Category     Product_Description  Order_Quantity  \\\n",
       "10            Bikes  Mountain Bikes  Mountain-200 Black, 38             4.0   \n",
       "15            Bikes  Mountain Bikes  Mountain-200 Black, 42             1.0   \n",
       "21            Bikes  Mountain Bikes                     NaN             2.0   \n",
       "22            Bikes  Mountain Bikes  Mountain-500 Black, 42             NaN   \n",
       "\n",
       "    Unit_Cost  Unit_Price  Profit  Cost  Revenue  \n",
       "10       1252        2295    4172  5008     9180  \n",
       "15       1252        2295    1043  1252     2295  \n",
       "21       1252        2295    2086  2504     4590  \n",
       "22        295         540     245     0        0  "
      ]
     },
     "execution_count": 33,
     "metadata": {},
     "output_type": "execute_result"
    }
   ],
   "source": [
    "#Look for nan value rows now to fill the data accordingly.\n",
    "tem_df[tem_df.isna().any(axis = 1)]"
   ]
  },
  {
   "cell_type": "code",
   "execution_count": 39,
   "id": "d4d9cefd-c6ea-40f5-a883-82f749084022",
   "metadata": {},
   "outputs": [],
   "source": [
    "# Will fill the \"Day\" column nan value with \"5\" based upon its \"Date\" column.\n",
    "tem_df[\"Day\"]=tem_df[\"Day\"].fillna(5)"
   ]
  },
  {
   "cell_type": "code",
   "execution_count": 40,
   "id": "efcc518d-372f-417f-8c3a-900f54141372",
   "metadata": {},
   "outputs": [
    {
     "data": {
      "text/html": [
       "<div>\n",
       "<style scoped>\n",
       "    .dataframe tbody tr th:only-of-type {\n",
       "        vertical-align: middle;\n",
       "    }\n",
       "\n",
       "    .dataframe tbody tr th {\n",
       "        vertical-align: top;\n",
       "    }\n",
       "\n",
       "    .dataframe thead th {\n",
       "        text-align: right;\n",
       "    }\n",
       "</style>\n",
       "<table border=\"1\" class=\"dataframe\">\n",
       "  <thead>\n",
       "    <tr style=\"text-align: right;\">\n",
       "      <th></th>\n",
       "      <th>Sales_Order #</th>\n",
       "      <th>Date</th>\n",
       "      <th>Day</th>\n",
       "      <th>Month</th>\n",
       "      <th>Year</th>\n",
       "      <th>Customer_Age</th>\n",
       "      <th>Age_Group</th>\n",
       "      <th>Customer_Gender</th>\n",
       "      <th>Country</th>\n",
       "      <th>State</th>\n",
       "      <th>Product_Category</th>\n",
       "      <th>Sub_Category</th>\n",
       "      <th>Product_Description</th>\n",
       "      <th>Order_Quantity</th>\n",
       "      <th>Unit_Cost</th>\n",
       "      <th>Unit_Price</th>\n",
       "      <th>Profit</th>\n",
       "      <th>Cost</th>\n",
       "      <th>Revenue</th>\n",
       "    </tr>\n",
       "  </thead>\n",
       "  <tbody>\n",
       "    <tr>\n",
       "      <th>15</th>\n",
       "      <td>261709</td>\n",
       "      <td>2021-12-06</td>\n",
       "      <td>6.0</td>\n",
       "      <td>December</td>\n",
       "      <td>2021</td>\n",
       "      <td>36</td>\n",
       "      <td>NaN</td>\n",
       "      <td>M</td>\n",
       "      <td>Australia</td>\n",
       "      <td>New South Wales</td>\n",
       "      <td>Bikes</td>\n",
       "      <td>Mountain Bikes</td>\n",
       "      <td>Mountain-200 Black, 42</td>\n",
       "      <td>1.0</td>\n",
       "      <td>1252</td>\n",
       "      <td>2295</td>\n",
       "      <td>1043</td>\n",
       "      <td>1252</td>\n",
       "      <td>2295</td>\n",
       "    </tr>\n",
       "    <tr>\n",
       "      <th>21</th>\n",
       "      <td>261715</td>\n",
       "      <td>2021-12-08</td>\n",
       "      <td>8.0</td>\n",
       "      <td>December</td>\n",
       "      <td>2021</td>\n",
       "      <td>39</td>\n",
       "      <td>Adults (35-64)</td>\n",
       "      <td>F</td>\n",
       "      <td>United States</td>\n",
       "      <td>Oregon</td>\n",
       "      <td>Bikes</td>\n",
       "      <td>Mountain Bikes</td>\n",
       "      <td>NaN</td>\n",
       "      <td>2.0</td>\n",
       "      <td>1252</td>\n",
       "      <td>2295</td>\n",
       "      <td>2086</td>\n",
       "      <td>2504</td>\n",
       "      <td>4590</td>\n",
       "    </tr>\n",
       "    <tr>\n",
       "      <th>22</th>\n",
       "      <td>261716</td>\n",
       "      <td>2021-12-08</td>\n",
       "      <td>8.0</td>\n",
       "      <td>December</td>\n",
       "      <td>2021</td>\n",
       "      <td>35</td>\n",
       "      <td>Adults (35-64)</td>\n",
       "      <td>F</td>\n",
       "      <td>United States</td>\n",
       "      <td>California</td>\n",
       "      <td>Bikes</td>\n",
       "      <td>Mountain Bikes</td>\n",
       "      <td>Mountain-500 Black, 42</td>\n",
       "      <td>NaN</td>\n",
       "      <td>295</td>\n",
       "      <td>540</td>\n",
       "      <td>245</td>\n",
       "      <td>0</td>\n",
       "      <td>0</td>\n",
       "    </tr>\n",
       "  </tbody>\n",
       "</table>\n",
       "</div>"
      ],
      "text/plain": [
       "    Sales_Order #       Date  Day     Month  Year  Customer_Age  \\\n",
       "15         261709 2021-12-06  6.0  December  2021            36   \n",
       "21         261715 2021-12-08  8.0  December  2021            39   \n",
       "22         261716 2021-12-08  8.0  December  2021            35   \n",
       "\n",
       "         Age_Group Customer_Gender        Country            State  \\\n",
       "15             NaN               M      Australia  New South Wales   \n",
       "21  Adults (35-64)               F  United States           Oregon   \n",
       "22  Adults (35-64)               F  United States       California   \n",
       "\n",
       "   Product_Category    Sub_Category     Product_Description  Order_Quantity  \\\n",
       "15            Bikes  Mountain Bikes  Mountain-200 Black, 42             1.0   \n",
       "21            Bikes  Mountain Bikes                     NaN             2.0   \n",
       "22            Bikes  Mountain Bikes  Mountain-500 Black, 42             NaN   \n",
       "\n",
       "    Unit_Cost  Unit_Price  Profit  Cost  Revenue  \n",
       "15       1252        2295    1043  1252     2295  \n",
       "21       1252        2295    2086  2504     4590  \n",
       "22        295         540     245     0        0  "
      ]
     },
     "execution_count": 40,
     "metadata": {},
     "output_type": "execute_result"
    }
   ],
   "source": [
    "tem_df[tem_df.isna().any(axis = 1)]"
   ]
  },
  {
   "cell_type": "code",
   "execution_count": null,
   "id": "ef448f9c-4d4b-4cc2-b05e-90eb667139c4",
   "metadata": {},
   "outputs": [],
   "source": []
  },
  {
   "cell_type": "code",
   "execution_count": 41,
   "id": "f549e9ea-1fa4-4f60-8b8a-1ba179d2b694",
   "metadata": {},
   "outputs": [],
   "source": [
    "# Will fill the \"Age_Group\" column nan value with \"Adults (35-64)\" based upon its \"Customer_Age\" column.\n",
    "tem_df[\"Age_Group\"]=tem_df[\"Age_Group\"].fillna(\"Adults (35-64)\")"
   ]
  },
  {
   "cell_type": "code",
   "execution_count": 42,
   "id": "0da4278b-5c69-4596-850f-d334de6d789e",
   "metadata": {},
   "outputs": [
    {
     "data": {
      "text/html": [
       "<div>\n",
       "<style scoped>\n",
       "    .dataframe tbody tr th:only-of-type {\n",
       "        vertical-align: middle;\n",
       "    }\n",
       "\n",
       "    .dataframe tbody tr th {\n",
       "        vertical-align: top;\n",
       "    }\n",
       "\n",
       "    .dataframe thead th {\n",
       "        text-align: right;\n",
       "    }\n",
       "</style>\n",
       "<table border=\"1\" class=\"dataframe\">\n",
       "  <thead>\n",
       "    <tr style=\"text-align: right;\">\n",
       "      <th></th>\n",
       "      <th>Sales_Order #</th>\n",
       "      <th>Date</th>\n",
       "      <th>Day</th>\n",
       "      <th>Month</th>\n",
       "      <th>Year</th>\n",
       "      <th>Customer_Age</th>\n",
       "      <th>Age_Group</th>\n",
       "      <th>Customer_Gender</th>\n",
       "      <th>Country</th>\n",
       "      <th>State</th>\n",
       "      <th>Product_Category</th>\n",
       "      <th>Sub_Category</th>\n",
       "      <th>Product_Description</th>\n",
       "      <th>Order_Quantity</th>\n",
       "      <th>Unit_Cost</th>\n",
       "      <th>Unit_Price</th>\n",
       "      <th>Profit</th>\n",
       "      <th>Cost</th>\n",
       "      <th>Revenue</th>\n",
       "    </tr>\n",
       "  </thead>\n",
       "  <tbody>\n",
       "    <tr>\n",
       "      <th>21</th>\n",
       "      <td>261715</td>\n",
       "      <td>2021-12-08</td>\n",
       "      <td>8.0</td>\n",
       "      <td>December</td>\n",
       "      <td>2021</td>\n",
       "      <td>39</td>\n",
       "      <td>Adults (35-64)</td>\n",
       "      <td>F</td>\n",
       "      <td>United States</td>\n",
       "      <td>Oregon</td>\n",
       "      <td>Bikes</td>\n",
       "      <td>Mountain Bikes</td>\n",
       "      <td>NaN</td>\n",
       "      <td>2.0</td>\n",
       "      <td>1252</td>\n",
       "      <td>2295</td>\n",
       "      <td>2086</td>\n",
       "      <td>2504</td>\n",
       "      <td>4590</td>\n",
       "    </tr>\n",
       "    <tr>\n",
       "      <th>22</th>\n",
       "      <td>261716</td>\n",
       "      <td>2021-12-08</td>\n",
       "      <td>8.0</td>\n",
       "      <td>December</td>\n",
       "      <td>2021</td>\n",
       "      <td>35</td>\n",
       "      <td>Adults (35-64)</td>\n",
       "      <td>F</td>\n",
       "      <td>United States</td>\n",
       "      <td>California</td>\n",
       "      <td>Bikes</td>\n",
       "      <td>Mountain Bikes</td>\n",
       "      <td>Mountain-500 Black, 42</td>\n",
       "      <td>NaN</td>\n",
       "      <td>295</td>\n",
       "      <td>540</td>\n",
       "      <td>245</td>\n",
       "      <td>0</td>\n",
       "      <td>0</td>\n",
       "    </tr>\n",
       "  </tbody>\n",
       "</table>\n",
       "</div>"
      ],
      "text/plain": [
       "    Sales_Order #       Date  Day     Month  Year  Customer_Age  \\\n",
       "21         261715 2021-12-08  8.0  December  2021            39   \n",
       "22         261716 2021-12-08  8.0  December  2021            35   \n",
       "\n",
       "         Age_Group Customer_Gender        Country       State  \\\n",
       "21  Adults (35-64)               F  United States      Oregon   \n",
       "22  Adults (35-64)               F  United States  California   \n",
       "\n",
       "   Product_Category    Sub_Category     Product_Description  Order_Quantity  \\\n",
       "21            Bikes  Mountain Bikes                     NaN             2.0   \n",
       "22            Bikes  Mountain Bikes  Mountain-500 Black, 42             NaN   \n",
       "\n",
       "    Unit_Cost  Unit_Price  Profit  Cost  Revenue  \n",
       "21       1252        2295    2086  2504     4590  \n",
       "22        295         540     245     0        0  "
      ]
     },
     "execution_count": 42,
     "metadata": {},
     "output_type": "execute_result"
    }
   ],
   "source": [
    "tem_df[tem_df.isna().any(axis = 1)]"
   ]
  },
  {
   "cell_type": "code",
   "execution_count": null,
   "id": "c01caa64-f368-4ad8-b3b2-ce85cafdcd41",
   "metadata": {},
   "outputs": [],
   "source": []
  },
  {
   "cell_type": "code",
   "execution_count": 47,
   "id": "3945ecd1-86ce-4d25-96d2-0845116f0c6c",
   "metadata": {},
   "outputs": [],
   "source": [
    "# Will fill the \"Product_Description\" column nan value with \"Mountain-200 Black, 38\" based upon its \"State\" & \"Unit_Cost\" columns.\n",
    "tem_df[tem_df[\"State\"]==\"Oregon\"]\n",
    "tem_df[\"Product_Description\"] = tem_df[\"Product_Description\"].fillna(\"Mountain-200 Black, 38\")"
   ]
  },
  {
   "cell_type": "code",
   "execution_count": 48,
   "id": "bacf10ec-7d1f-40f6-9209-2ee034ec8caa",
   "metadata": {},
   "outputs": [
    {
     "data": {
      "text/html": [
       "<div>\n",
       "<style scoped>\n",
       "    .dataframe tbody tr th:only-of-type {\n",
       "        vertical-align: middle;\n",
       "    }\n",
       "\n",
       "    .dataframe tbody tr th {\n",
       "        vertical-align: top;\n",
       "    }\n",
       "\n",
       "    .dataframe thead th {\n",
       "        text-align: right;\n",
       "    }\n",
       "</style>\n",
       "<table border=\"1\" class=\"dataframe\">\n",
       "  <thead>\n",
       "    <tr style=\"text-align: right;\">\n",
       "      <th></th>\n",
       "      <th>Sales_Order #</th>\n",
       "      <th>Date</th>\n",
       "      <th>Day</th>\n",
       "      <th>Month</th>\n",
       "      <th>Year</th>\n",
       "      <th>Customer_Age</th>\n",
       "      <th>Age_Group</th>\n",
       "      <th>Customer_Gender</th>\n",
       "      <th>Country</th>\n",
       "      <th>State</th>\n",
       "      <th>Product_Category</th>\n",
       "      <th>Sub_Category</th>\n",
       "      <th>Product_Description</th>\n",
       "      <th>Order_Quantity</th>\n",
       "      <th>Unit_Cost</th>\n",
       "      <th>Unit_Price</th>\n",
       "      <th>Profit</th>\n",
       "      <th>Cost</th>\n",
       "      <th>Revenue</th>\n",
       "    </tr>\n",
       "  </thead>\n",
       "  <tbody>\n",
       "    <tr>\n",
       "      <th>22</th>\n",
       "      <td>261716</td>\n",
       "      <td>2021-12-08</td>\n",
       "      <td>8.0</td>\n",
       "      <td>December</td>\n",
       "      <td>2021</td>\n",
       "      <td>35</td>\n",
       "      <td>Adults (35-64)</td>\n",
       "      <td>F</td>\n",
       "      <td>United States</td>\n",
       "      <td>California</td>\n",
       "      <td>Bikes</td>\n",
       "      <td>Mountain Bikes</td>\n",
       "      <td>Mountain-500 Black, 42</td>\n",
       "      <td>NaN</td>\n",
       "      <td>295</td>\n",
       "      <td>540</td>\n",
       "      <td>245</td>\n",
       "      <td>0</td>\n",
       "      <td>0</td>\n",
       "    </tr>\n",
       "  </tbody>\n",
       "</table>\n",
       "</div>"
      ],
      "text/plain": [
       "    Sales_Order #       Date  Day     Month  Year  Customer_Age  \\\n",
       "22         261716 2021-12-08  8.0  December  2021            35   \n",
       "\n",
       "         Age_Group Customer_Gender        Country       State  \\\n",
       "22  Adults (35-64)               F  United States  California   \n",
       "\n",
       "   Product_Category    Sub_Category     Product_Description  Order_Quantity  \\\n",
       "22            Bikes  Mountain Bikes  Mountain-500 Black, 42             NaN   \n",
       "\n",
       "    Unit_Cost  Unit_Price  Profit  Cost  Revenue  \n",
       "22        295         540     245     0        0  "
      ]
     },
     "execution_count": 48,
     "metadata": {},
     "output_type": "execute_result"
    }
   ],
   "source": [
    "tem_df[tem_df.isna().any(axis = 1)]"
   ]
  },
  {
   "cell_type": "code",
   "execution_count": 49,
   "id": "9af49e22-3bdf-4339-b6e4-741120f22929",
   "metadata": {},
   "outputs": [],
   "source": [
    "#Will fill the \"Order Quantity\" nan value with \"1\" as based upon the data \"Profit\" = (\"Unit_Price\"-\"Unit_Cost\")*\"Order_Quantity\".\n",
    "tem_df[\"Order_Quantity\"]=tem_df[\"Order_Quantity\"].fillna(1)"
   ]
  },
  {
   "cell_type": "code",
   "execution_count": 52,
   "id": "3de35959-43ae-428e-a1d1-81b6bdca481b",
   "metadata": {},
   "outputs": [
    {
     "data": {
      "text/plain": [
       "0"
      ]
     },
     "execution_count": 52,
     "metadata": {},
     "output_type": "execute_result"
    }
   ],
   "source": [
    "tem_df.isnull().sum().sum()"
   ]
  },
  {
   "cell_type": "code",
   "execution_count": 132,
   "id": "4cbfa63f-a674-4882-8301-a2b752baa31e",
   "metadata": {},
   "outputs": [],
   "source": [
    "# split \"Age_Group\" column to extract \"Age_Range\" and only \"Age Group\".\n",
    "tem_df[\"Age_Range\"] = tem_df[\"Age_Group\"].str.split(\"(\").str.get(1).astype(str)\n",
    "tem_df[\"Age_Range\"] = tem_df[\"Age_Range\"].str.replace(\")\",\"\")"
   ]
  },
  {
   "cell_type": "code",
   "execution_count": 162,
   "id": "f0d0a9ef-ebef-42bd-9f29-0a0db34bfae5",
   "metadata": {},
   "outputs": [
    {
     "data": {
      "text/html": [
       "<div>\n",
       "<style scoped>\n",
       "    .dataframe tbody tr th:only-of-type {\n",
       "        vertical-align: middle;\n",
       "    }\n",
       "\n",
       "    .dataframe tbody tr th {\n",
       "        vertical-align: top;\n",
       "    }\n",
       "\n",
       "    .dataframe thead th {\n",
       "        text-align: right;\n",
       "    }\n",
       "</style>\n",
       "<table border=\"1\" class=\"dataframe\">\n",
       "  <thead>\n",
       "    <tr style=\"text-align: right;\">\n",
       "      <th></th>\n",
       "      <th>Sales_Order #</th>\n",
       "      <th>Date</th>\n",
       "      <th>Day</th>\n",
       "      <th>Month</th>\n",
       "      <th>Year</th>\n",
       "      <th>Customer_Age</th>\n",
       "      <th>Age_Group</th>\n",
       "      <th>Customer_Gender</th>\n",
       "      <th>Country</th>\n",
       "      <th>State</th>\n",
       "      <th>Product_Category</th>\n",
       "      <th>Sub_Category</th>\n",
       "      <th>Product_Description</th>\n",
       "      <th>Order_Quantity</th>\n",
       "      <th>Unit_Cost</th>\n",
       "      <th>Unit_Price</th>\n",
       "      <th>Profit</th>\n",
       "      <th>Cost</th>\n",
       "      <th>Revenue</th>\n",
       "      <th>Age_Range</th>\n",
       "      <th>Model_Name</th>\n",
       "      <th>Colour</th>\n",
       "      <th>Size</th>\n",
       "    </tr>\n",
       "  </thead>\n",
       "  <tbody>\n",
       "    <tr>\n",
       "      <th>56</th>\n",
       "      <td>261750</td>\n",
       "      <td>2021-12-18</td>\n",
       "      <td>18</td>\n",
       "      <td>December</td>\n",
       "      <td>2021</td>\n",
       "      <td>38</td>\n",
       "      <td>Adults</td>\n",
       "      <td>F</td>\n",
       "      <td>Germany</td>\n",
       "      <td>Nordrhein-Westfalen</td>\n",
       "      <td>Bikes</td>\n",
       "      <td>Mountain Bikes</td>\n",
       "      <td>Mountain-200 Silver, 46</td>\n",
       "      <td>4</td>\n",
       "      <td>1266</td>\n",
       "      <td>2320</td>\n",
       "      <td>4216</td>\n",
       "      <td>5064</td>\n",
       "      <td>9280</td>\n",
       "      <td>35-64</td>\n",
       "      <td>Mountain-200</td>\n",
       "      <td>Silver</td>\n",
       "      <td>46</td>\n",
       "    </tr>\n",
       "    <tr>\n",
       "      <th>26</th>\n",
       "      <td>261720</td>\n",
       "      <td>2021-12-10</td>\n",
       "      <td>10</td>\n",
       "      <td>December</td>\n",
       "      <td>2021</td>\n",
       "      <td>40</td>\n",
       "      <td>Adults</td>\n",
       "      <td>M</td>\n",
       "      <td>Australia</td>\n",
       "      <td>New South Wales</td>\n",
       "      <td>Bikes</td>\n",
       "      <td>Mountain Bikes</td>\n",
       "      <td>Mountain-200 Black, 42</td>\n",
       "      <td>2</td>\n",
       "      <td>1252</td>\n",
       "      <td>2295</td>\n",
       "      <td>2086</td>\n",
       "      <td>2504</td>\n",
       "      <td>4590</td>\n",
       "      <td>35-64</td>\n",
       "      <td>Mountain-200</td>\n",
       "      <td>Black</td>\n",
       "      <td>42</td>\n",
       "    </tr>\n",
       "  </tbody>\n",
       "</table>\n",
       "</div>"
      ],
      "text/plain": [
       "    Sales_Order #       Date  Day     Month  Year  Customer_Age Age_Group  \\\n",
       "56         261750 2021-12-18   18  December  2021            38    Adults   \n",
       "26         261720 2021-12-10   10  December  2021            40    Adults   \n",
       "\n",
       "   Customer_Gender    Country                State Product_Category  \\\n",
       "56               F    Germany  Nordrhein-Westfalen            Bikes   \n",
       "26               M  Australia      New South Wales            Bikes   \n",
       "\n",
       "      Sub_Category      Product_Description  Order_Quantity  Unit_Cost  \\\n",
       "56  Mountain Bikes  Mountain-200 Silver, 46               4       1266   \n",
       "26  Mountain Bikes   Mountain-200 Black, 42               2       1252   \n",
       "\n",
       "    Unit_Price  Profit  Cost  Revenue Age_Range    Model_Name  Colour  Size  \n",
       "56        2320    4216  5064     9280     35-64  Mountain-200  Silver    46  \n",
       "26        2295    2086  2504     4590     35-64  Mountain-200   Black    42  "
      ]
     },
     "execution_count": 162,
     "metadata": {},
     "output_type": "execute_result"
    }
   ],
   "source": [
    "tem_df.sample(2)"
   ]
  },
  {
   "cell_type": "code",
   "execution_count": 163,
   "id": "d8ee9339-5402-4b69-a17e-b14b4af7e972",
   "metadata": {},
   "outputs": [
    {
     "data": {
      "text/html": [
       "<div>\n",
       "<style scoped>\n",
       "    .dataframe tbody tr th:only-of-type {\n",
       "        vertical-align: middle;\n",
       "    }\n",
       "\n",
       "    .dataframe tbody tr th {\n",
       "        vertical-align: top;\n",
       "    }\n",
       "\n",
       "    .dataframe thead th {\n",
       "        text-align: right;\n",
       "    }\n",
       "</style>\n",
       "<table border=\"1\" class=\"dataframe\">\n",
       "  <thead>\n",
       "    <tr style=\"text-align: right;\">\n",
       "      <th></th>\n",
       "      <th>Sales_Order #</th>\n",
       "      <th>Date</th>\n",
       "      <th>Day</th>\n",
       "      <th>Month</th>\n",
       "      <th>Year</th>\n",
       "      <th>Customer_Age</th>\n",
       "      <th>Age_Group</th>\n",
       "      <th>Customer_Gender</th>\n",
       "      <th>Country</th>\n",
       "      <th>State</th>\n",
       "      <th>Product_Category</th>\n",
       "      <th>Sub_Category</th>\n",
       "      <th>Product_Description</th>\n",
       "      <th>Order_Quantity</th>\n",
       "      <th>Unit_Cost</th>\n",
       "      <th>Unit_Price</th>\n",
       "      <th>Profit</th>\n",
       "      <th>Cost</th>\n",
       "      <th>Revenue</th>\n",
       "      <th>Age_Range</th>\n",
       "      <th>Model_Name</th>\n",
       "      <th>Colour</th>\n",
       "      <th>Size</th>\n",
       "    </tr>\n",
       "  </thead>\n",
       "  <tbody>\n",
       "    <tr>\n",
       "      <th>34</th>\n",
       "      <td>261728</td>\n",
       "      <td>2021-12-11</td>\n",
       "      <td>11</td>\n",
       "      <td>December</td>\n",
       "      <td>2021</td>\n",
       "      <td>37</td>\n",
       "      <td>Adults</td>\n",
       "      <td>M</td>\n",
       "      <td>United States</td>\n",
       "      <td>California</td>\n",
       "      <td>Bikes</td>\n",
       "      <td>Mountain Bikes</td>\n",
       "      <td>Mountain-400-W Silver, 46</td>\n",
       "      <td>1</td>\n",
       "      <td>420</td>\n",
       "      <td>769</td>\n",
       "      <td>349</td>\n",
       "      <td>420</td>\n",
       "      <td>769</td>\n",
       "      <td>35-64</td>\n",
       "      <td>Mountain-400-W</td>\n",
       "      <td>Silver</td>\n",
       "      <td>46</td>\n",
       "    </tr>\n",
       "    <tr>\n",
       "      <th>11</th>\n",
       "      <td>261705</td>\n",
       "      <td>2021-12-05</td>\n",
       "      <td>5</td>\n",
       "      <td>December</td>\n",
       "      <td>2021</td>\n",
       "      <td>35</td>\n",
       "      <td>Adults</td>\n",
       "      <td>F</td>\n",
       "      <td>Australia</td>\n",
       "      <td>Queensland</td>\n",
       "      <td>Bikes</td>\n",
       "      <td>Mountain Bikes</td>\n",
       "      <td>Mountain-200 Silver, 38</td>\n",
       "      <td>1</td>\n",
       "      <td>1266</td>\n",
       "      <td>2320</td>\n",
       "      <td>1054</td>\n",
       "      <td>1266</td>\n",
       "      <td>2320</td>\n",
       "      <td>35-64</td>\n",
       "      <td>Mountain-200</td>\n",
       "      <td>Silver</td>\n",
       "      <td>38</td>\n",
       "    </tr>\n",
       "    <tr>\n",
       "      <th>52</th>\n",
       "      <td>261746</td>\n",
       "      <td>2021-12-17</td>\n",
       "      <td>17</td>\n",
       "      <td>December</td>\n",
       "      <td>2021</td>\n",
       "      <td>37</td>\n",
       "      <td>Adults</td>\n",
       "      <td>F</td>\n",
       "      <td>United States</td>\n",
       "      <td>Washington</td>\n",
       "      <td>Bikes</td>\n",
       "      <td>Mountain Bikes</td>\n",
       "      <td>Mountain-200 Silver, 38</td>\n",
       "      <td>2</td>\n",
       "      <td>1266</td>\n",
       "      <td>2320</td>\n",
       "      <td>2108</td>\n",
       "      <td>2532</td>\n",
       "      <td>4640</td>\n",
       "      <td>35-64</td>\n",
       "      <td>Mountain-200</td>\n",
       "      <td>Silver</td>\n",
       "      <td>38</td>\n",
       "    </tr>\n",
       "  </tbody>\n",
       "</table>\n",
       "</div>"
      ],
      "text/plain": [
       "    Sales_Order #       Date  Day     Month  Year  Customer_Age Age_Group  \\\n",
       "34         261728 2021-12-11   11  December  2021            37    Adults   \n",
       "11         261705 2021-12-05    5  December  2021            35    Adults   \n",
       "52         261746 2021-12-17   17  December  2021            37    Adults   \n",
       "\n",
       "   Customer_Gender        Country       State Product_Category  \\\n",
       "34               M  United States  California            Bikes   \n",
       "11               F      Australia  Queensland            Bikes   \n",
       "52               F  United States  Washington            Bikes   \n",
       "\n",
       "      Sub_Category        Product_Description  Order_Quantity  Unit_Cost  \\\n",
       "34  Mountain Bikes  Mountain-400-W Silver, 46               1        420   \n",
       "11  Mountain Bikes    Mountain-200 Silver, 38               1       1266   \n",
       "52  Mountain Bikes    Mountain-200 Silver, 38               2       1266   \n",
       "\n",
       "    Unit_Price  Profit  Cost  Revenue Age_Range      Model_Name  Colour  Size  \n",
       "34         769     349   420      769     35-64  Mountain-400-W  Silver    46  \n",
       "11        2320    1054  1266     2320     35-64    Mountain-200  Silver    38  \n",
       "52        2320    2108  2532     4640     35-64    Mountain-200  Silver    38  "
      ]
     },
     "execution_count": 163,
     "metadata": {},
     "output_type": "execute_result"
    }
   ],
   "source": [
    "tem_df[\"Age_Group\"] = tem_df[\"Age_Group\"].str.split(\"(\").str.get(0)\n",
    "tem_df.sample(3)"
   ]
  },
  {
   "cell_type": "code",
   "execution_count": 164,
   "id": "7480256b-00bc-440b-a0bf-6884dedeaab2",
   "metadata": {},
   "outputs": [
    {
     "data": {
      "text/html": [
       "<div>\n",
       "<style scoped>\n",
       "    .dataframe tbody tr th:only-of-type {\n",
       "        vertical-align: middle;\n",
       "    }\n",
       "\n",
       "    .dataframe tbody tr th {\n",
       "        vertical-align: top;\n",
       "    }\n",
       "\n",
       "    .dataframe thead th {\n",
       "        text-align: right;\n",
       "    }\n",
       "</style>\n",
       "<table border=\"1\" class=\"dataframe\">\n",
       "  <thead>\n",
       "    <tr style=\"text-align: right;\">\n",
       "      <th></th>\n",
       "      <th>Sales_Order #</th>\n",
       "      <th>Date</th>\n",
       "      <th>Day</th>\n",
       "      <th>Month</th>\n",
       "      <th>Year</th>\n",
       "      <th>Customer_Age</th>\n",
       "      <th>Age_Group</th>\n",
       "      <th>Customer_Gender</th>\n",
       "      <th>Country</th>\n",
       "      <th>State</th>\n",
       "      <th>Product_Category</th>\n",
       "      <th>Sub_Category</th>\n",
       "      <th>Product_Description</th>\n",
       "      <th>Order_Quantity</th>\n",
       "      <th>Unit_Cost</th>\n",
       "      <th>Unit_Price</th>\n",
       "      <th>Profit</th>\n",
       "      <th>Cost</th>\n",
       "      <th>Revenue</th>\n",
       "      <th>Age_Range</th>\n",
       "      <th>Model_Name</th>\n",
       "      <th>Colour</th>\n",
       "      <th>Size</th>\n",
       "    </tr>\n",
       "  </thead>\n",
       "  <tbody>\n",
       "    <tr>\n",
       "      <th>60</th>\n",
       "      <td>261754</td>\n",
       "      <td>2021-12-18</td>\n",
       "      <td>18</td>\n",
       "      <td>December</td>\n",
       "      <td>2021</td>\n",
       "      <td>26</td>\n",
       "      <td>Young Adults</td>\n",
       "      <td>M</td>\n",
       "      <td>France</td>\n",
       "      <td>Paris</td>\n",
       "      <td>Bikes</td>\n",
       "      <td>Mountain Bikes</td>\n",
       "      <td>Mountain-200 Black, 46</td>\n",
       "      <td>1</td>\n",
       "      <td>1252</td>\n",
       "      <td>2295</td>\n",
       "      <td>1043</td>\n",
       "      <td>1252</td>\n",
       "      <td>2295</td>\n",
       "      <td>25-34</td>\n",
       "      <td>Mountain-200</td>\n",
       "      <td>Black</td>\n",
       "      <td>46</td>\n",
       "    </tr>\n",
       "    <tr>\n",
       "      <th>79</th>\n",
       "      <td>261773</td>\n",
       "      <td>2021-12-22</td>\n",
       "      <td>22</td>\n",
       "      <td>December</td>\n",
       "      <td>2021</td>\n",
       "      <td>30</td>\n",
       "      <td>Young Adults</td>\n",
       "      <td>F</td>\n",
       "      <td>United States</td>\n",
       "      <td>Washington</td>\n",
       "      <td>Bikes</td>\n",
       "      <td>Mountain Bikes</td>\n",
       "      <td>Mountain-200 Silver, 38</td>\n",
       "      <td>3</td>\n",
       "      <td>1266</td>\n",
       "      <td>2320</td>\n",
       "      <td>3162</td>\n",
       "      <td>3798</td>\n",
       "      <td>6960</td>\n",
       "      <td>25-34</td>\n",
       "      <td>Mountain-200</td>\n",
       "      <td>Silver</td>\n",
       "      <td>38</td>\n",
       "    </tr>\n",
       "  </tbody>\n",
       "</table>\n",
       "</div>"
      ],
      "text/plain": [
       "    Sales_Order #       Date  Day     Month  Year  Customer_Age     Age_Group  \\\n",
       "60         261754 2021-12-18   18  December  2021            26  Young Adults   \n",
       "79         261773 2021-12-22   22  December  2021            30  Young Adults   \n",
       "\n",
       "   Customer_Gender        Country       State Product_Category  \\\n",
       "60               M         France       Paris            Bikes   \n",
       "79               F  United States  Washington            Bikes   \n",
       "\n",
       "      Sub_Category      Product_Description  Order_Quantity  Unit_Cost  \\\n",
       "60  Mountain Bikes   Mountain-200 Black, 46               1       1252   \n",
       "79  Mountain Bikes  Mountain-200 Silver, 38               3       1266   \n",
       "\n",
       "    Unit_Price  Profit  Cost  Revenue Age_Range    Model_Name  Colour Size  \n",
       "60        2295    1043  1252     2295     25-34  Mountain-200   Black   46  \n",
       "79        2320    3162  3798     6960     25-34  Mountain-200  Silver   38  "
      ]
     },
     "execution_count": 164,
     "metadata": {},
     "output_type": "execute_result"
    }
   ],
   "source": [
    "#Splitting the \"Product_Description\" column based upon (\"Model_Name\",\"Colour\" & \"Size_Centimeter\") for better understanding.\n",
    "tem_df[[\"Model_Name\",\"Colour\",\"Size\"]] = tem_df[\"Product_Description\"].str.split(\" \",expand = True)\n",
    "tem_df[\"Colour\"]=tem_df[\"Colour\"].str.replace(\",\",\"\")\n",
    "tem_df.sample(2)"
   ]
  },
  {
   "cell_type": "code",
   "execution_count": 81,
   "id": "fd52d5f1-2782-4ce1-bc71-74cb3fe7bd39",
   "metadata": {},
   "outputs": [],
   "source": [
    "#Display all columns\n",
    "pd.set_option(\"display.max_columns\",None)"
   ]
  },
  {
   "cell_type": "code",
   "execution_count": 165,
   "id": "b607cd46-cb4d-417b-8112-a6aaaa6f0d4f",
   "metadata": {},
   "outputs": [
    {
     "data": {
      "text/html": [
       "<div>\n",
       "<style scoped>\n",
       "    .dataframe tbody tr th:only-of-type {\n",
       "        vertical-align: middle;\n",
       "    }\n",
       "\n",
       "    .dataframe tbody tr th {\n",
       "        vertical-align: top;\n",
       "    }\n",
       "\n",
       "    .dataframe thead th {\n",
       "        text-align: right;\n",
       "    }\n",
       "</style>\n",
       "<table border=\"1\" class=\"dataframe\">\n",
       "  <thead>\n",
       "    <tr style=\"text-align: right;\">\n",
       "      <th></th>\n",
       "      <th>Sales_Order #</th>\n",
       "      <th>Date</th>\n",
       "      <th>Day</th>\n",
       "      <th>Month</th>\n",
       "      <th>Year</th>\n",
       "      <th>Customer_Age</th>\n",
       "      <th>Age_Group</th>\n",
       "      <th>Customer_Gender</th>\n",
       "      <th>Country</th>\n",
       "      <th>State</th>\n",
       "      <th>Product_Category</th>\n",
       "      <th>Sub_Category</th>\n",
       "      <th>Product_Description</th>\n",
       "      <th>Order_Quantity</th>\n",
       "      <th>Unit_Cost</th>\n",
       "      <th>Unit_Price</th>\n",
       "      <th>Profit</th>\n",
       "      <th>Cost</th>\n",
       "      <th>Revenue</th>\n",
       "      <th>Age_Range</th>\n",
       "      <th>Model_Name</th>\n",
       "      <th>Colour</th>\n",
       "      <th>Size</th>\n",
       "    </tr>\n",
       "  </thead>\n",
       "  <tbody>\n",
       "    <tr>\n",
       "      <th>37</th>\n",
       "      <td>261731</td>\n",
       "      <td>2021-12-12</td>\n",
       "      <td>12</td>\n",
       "      <td>December</td>\n",
       "      <td>2021</td>\n",
       "      <td>37</td>\n",
       "      <td>Adults</td>\n",
       "      <td>M</td>\n",
       "      <td>United States</td>\n",
       "      <td>California</td>\n",
       "      <td>Bikes</td>\n",
       "      <td>Mountain Bikes</td>\n",
       "      <td>Mountain-400-W Silver, 46</td>\n",
       "      <td>4</td>\n",
       "      <td>420</td>\n",
       "      <td>769</td>\n",
       "      <td>1396</td>\n",
       "      <td>1680</td>\n",
       "      <td>3076</td>\n",
       "      <td>35-64</td>\n",
       "      <td>Mountain-400-W</td>\n",
       "      <td>Silver</td>\n",
       "      <td>46</td>\n",
       "    </tr>\n",
       "  </tbody>\n",
       "</table>\n",
       "</div>"
      ],
      "text/plain": [
       "    Sales_Order #       Date  Day     Month  Year  Customer_Age Age_Group  \\\n",
       "37         261731 2021-12-12   12  December  2021            37    Adults   \n",
       "\n",
       "   Customer_Gender        Country       State Product_Category  \\\n",
       "37               M  United States  California            Bikes   \n",
       "\n",
       "      Sub_Category        Product_Description  Order_Quantity  Unit_Cost  \\\n",
       "37  Mountain Bikes  Mountain-400-W Silver, 46               4        420   \n",
       "\n",
       "    Unit_Price  Profit  Cost  Revenue Age_Range      Model_Name  Colour Size  \n",
       "37         769    1396  1680     3076     35-64  Mountain-400-W  Silver   46  "
      ]
     },
     "execution_count": 165,
     "metadata": {},
     "output_type": "execute_result"
    }
   ],
   "source": [
    "tem_df.sample()"
   ]
  },
  {
   "cell_type": "code",
   "execution_count": 166,
   "id": "977b4241-9194-4c76-ba7b-ee23d42bb68f",
   "metadata": {},
   "outputs": [
    {
     "name": "stdout",
     "output_type": "stream",
     "text": [
      "<class 'pandas.core.frame.DataFrame'>\n",
      "RangeIndex: 89 entries, 0 to 88\n",
      "Data columns (total 23 columns):\n",
      " #   Column               Non-Null Count  Dtype         \n",
      "---  ------               --------------  -----         \n",
      " 0   Sales_Order #        89 non-null     int64         \n",
      " 1   Date                 89 non-null     datetime64[ns]\n",
      " 2   Day                  89 non-null     int32         \n",
      " 3   Month                89 non-null     category      \n",
      " 4   Year                 89 non-null     int64         \n",
      " 5   Customer_Age         89 non-null     int64         \n",
      " 6   Age_Group            89 non-null     object        \n",
      " 7   Customer_Gender      89 non-null     object        \n",
      " 8   Country              89 non-null     object        \n",
      " 9   State                89 non-null     object        \n",
      " 10  Product_Category     89 non-null     category      \n",
      " 11  Sub_Category         89 non-null     category      \n",
      " 12  Product_Description  89 non-null     object        \n",
      " 13  Order_Quantity       89 non-null     int32         \n",
      " 14  Unit_Cost            89 non-null     int64         \n",
      " 15  Unit_Price           89 non-null     int64         \n",
      " 16  Profit               89 non-null     int64         \n",
      " 17  Cost                 89 non-null     int64         \n",
      " 18  Revenue              89 non-null     int64         \n",
      " 19  Age_Range            88 non-null     object        \n",
      " 20  Model_Name           89 non-null     object        \n",
      " 21  Colour               89 non-null     object        \n",
      " 22  Size                 89 non-null     object        \n",
      "dtypes: category(3), datetime64[ns](1), int32(2), int64(8), object(9)\n",
      "memory usage: 13.9+ KB\n"
     ]
    }
   ],
   "source": [
    "tem_df.info()"
   ]
  },
  {
   "cell_type": "code",
   "execution_count": null,
   "id": "9b8f7581-51e7-4ccf-a795-96212ea490fd",
   "metadata": {},
   "outputs": [],
   "source": [
    "# Changing Dtype of some columns based upon the data it contain\n",
    "    #a) Changing Dtype of (\"Day\",\"Order_Quantity\",\"Size\") from float and object to \"Integers\""
   ]
  },
  {
   "cell_type": "code",
   "execution_count": 89,
   "id": "8320f0b8-bc93-4283-993d-e2d951844efd",
   "metadata": {},
   "outputs": [],
   "source": [
    "tem_df[[\"Day\",\"Order_Quantity\",\"Size\"]]=tem_df[[\"Day\",\"Order_Quantity\",\"Size\"]].astype(int)"
   ]
  },
  {
   "cell_type": "code",
   "execution_count": 167,
   "id": "a885ef0f-a5de-43d6-8f66-5ab569487140",
   "metadata": {},
   "outputs": [
    {
     "name": "stdout",
     "output_type": "stream",
     "text": [
      "<class 'pandas.core.frame.DataFrame'>\n",
      "RangeIndex: 89 entries, 0 to 88\n",
      "Data columns (total 23 columns):\n",
      " #   Column               Non-Null Count  Dtype         \n",
      "---  ------               --------------  -----         \n",
      " 0   Sales_Order #        89 non-null     int64         \n",
      " 1   Date                 89 non-null     datetime64[ns]\n",
      " 2   Day                  89 non-null     int32         \n",
      " 3   Month                89 non-null     category      \n",
      " 4   Year                 89 non-null     int64         \n",
      " 5   Customer_Age         89 non-null     int64         \n",
      " 6   Age_Group            89 non-null     object        \n",
      " 7   Customer_Gender      89 non-null     object        \n",
      " 8   Country              89 non-null     object        \n",
      " 9   State                89 non-null     object        \n",
      " 10  Product_Category     89 non-null     category      \n",
      " 11  Sub_Category         89 non-null     category      \n",
      " 12  Product_Description  89 non-null     object        \n",
      " 13  Order_Quantity       89 non-null     int32         \n",
      " 14  Unit_Cost            89 non-null     int64         \n",
      " 15  Unit_Price           89 non-null     int64         \n",
      " 16  Profit               89 non-null     int64         \n",
      " 17  Cost                 89 non-null     int64         \n",
      " 18  Revenue              89 non-null     int64         \n",
      " 19  Age_Range            88 non-null     object        \n",
      " 20  Model_Name           89 non-null     object        \n",
      " 21  Colour               89 non-null     object        \n",
      " 22  Size                 89 non-null     object        \n",
      "dtypes: category(3), datetime64[ns](1), int32(2), int64(8), object(9)\n",
      "memory usage: 13.9+ KB\n"
     ]
    }
   ],
   "source": [
    "tem_df.info()"
   ]
  },
  {
   "cell_type": "code",
   "execution_count": null,
   "id": "f09b85be-e778-4ed2-a332-9ca2246839d6",
   "metadata": {},
   "outputs": [],
   "source": [
    "    #b) Changing Dtype of (\"Month\",\"Product_Category\",\"Sub_Category\",\"Age_Range\",\"Model_Name\",\"Colour\") from object to \"Category\"."
   ]
  },
  {
   "cell_type": "code",
   "execution_count": 92,
   "id": "cd1c1c9a-1fde-47d3-a80b-6f9dcf0d25c8",
   "metadata": {},
   "outputs": [],
   "source": [
    "tem_df[[\"Month\",\"Product_Category\",\"Sub_Category\",\"Age_Range\",\"Model_Name\",\"Colour\"]]=tem_df[[\"Month\",\"Product_Category\",\"Sub_Category\",\"Age_Range\",\"Model_Name\",\"Colour\"]].astype(\"category\")"
   ]
  },
  {
   "cell_type": "code",
   "execution_count": 93,
   "id": "1d03e350-b8fd-49e1-b2a4-33309888a219",
   "metadata": {},
   "outputs": [
    {
     "name": "stdout",
     "output_type": "stream",
     "text": [
      "<class 'pandas.core.frame.DataFrame'>\n",
      "RangeIndex: 89 entries, 0 to 88\n",
      "Data columns (total 23 columns):\n",
      " #   Column               Non-Null Count  Dtype         \n",
      "---  ------               --------------  -----         \n",
      " 0   Sales_Order #        89 non-null     int64         \n",
      " 1   Date                 89 non-null     datetime64[ns]\n",
      " 2   Day                  89 non-null     int32         \n",
      " 3   Month                89 non-null     category      \n",
      " 4   Year                 89 non-null     int64         \n",
      " 5   Customer_Age         89 non-null     int64         \n",
      " 6   Age_Group            89 non-null     object        \n",
      " 7   Customer_Gender      89 non-null     object        \n",
      " 8   Country              89 non-null     object        \n",
      " 9   State                89 non-null     object        \n",
      " 10  Product_Category     89 non-null     category      \n",
      " 11  Sub_Category         89 non-null     category      \n",
      " 12  Product_Description  89 non-null     object        \n",
      " 13  Order_Quantity       89 non-null     int32         \n",
      " 14  Unit_Cost            89 non-null     int64         \n",
      " 15  Unit_Price           89 non-null     int64         \n",
      " 16  Profit               89 non-null     int64         \n",
      " 17  Cost                 89 non-null     int64         \n",
      " 18  Revenue              89 non-null     int64         \n",
      " 19  Age_Range            89 non-null     category      \n",
      " 20  Model_Name           89 non-null     category      \n",
      " 21  Colour               89 non-null     category      \n",
      " 22  Size                 89 non-null     int32         \n",
      "dtypes: category(6), datetime64[ns](1), int32(3), int64(8), object(5)\n",
      "memory usage: 12.2+ KB\n"
     ]
    }
   ],
   "source": [
    "tem_df.info()"
   ]
  },
  {
   "cell_type": "code",
   "execution_count": null,
   "id": "e59fdb7b-317e-488e-93ba-54700fc32b93",
   "metadata": {},
   "outputs": [],
   "source": []
  },
  {
   "cell_type": "code",
   "execution_count": 168,
   "id": "8a3af298-3f2a-4e5e-ad0c-bd307fb91f14",
   "metadata": {},
   "outputs": [
    {
     "name": "stdout",
     "output_type": "stream",
     "text": [
      "Sales_Order # [261695 261697 261698 261699 261700 261701 261702 261703 261704 261705\n",
      " 261706 261707 261708 261709 261710 261711 261712 261713 261714 261715\n",
      " 261716 261717 261718 261719 261720 261721 261722 261723 261724 261725\n",
      " 261726 261727 261728 261729 261730 261731 261732 261733 261734 261735\n",
      " 261736 261737 261738 261739 261740 261741 261742 261743 261744 261745\n",
      " 261746 261747 261748 261749 261750 261751 261752 261753 261754 261755\n",
      " 261756 261757 261758 261759 261760 261761 261762 261763 261764 261765\n",
      " 261766 261767 261768 261769 261770 261771 261772 261773 261774 261775\n",
      " 261776 261777 261778 261779 261780 261781 261782]\n",
      "Date <DatetimeArray>\n",
      "['2021-12-01 00:00:00', '2021-12-02 00:00:00', '2021-12-03 00:00:00',\n",
      " '2021-12-04 00:00:00', '2021-12-05 00:00:00', '2021-12-06 00:00:00',\n",
      " '2021-12-07 00:00:00', '2021-12-08 00:00:00', '2021-12-09 00:00:00',\n",
      " '2021-12-10 00:00:00', '2021-12-11 00:00:00', '2021-12-12 00:00:00',\n",
      " '2021-12-13 00:00:00', '2021-12-14 00:00:00', '2021-12-15 00:00:00',\n",
      " '2021-12-16 00:00:00', '2021-12-17 00:00:00', '2021-12-18 00:00:00',\n",
      " '2021-12-19 00:00:00', '2021-12-20 00:00:00', '2021-12-21 00:00:00',\n",
      " '2021-12-22 00:00:00', '2021-12-23 00:00:00', '2021-12-24 00:00:00']\n",
      "Length: 24, dtype: datetime64[ns]\n",
      "Day [ 1  2  3  4  5  6  7  8  9 10 11 12 13 14 15 16 17 18 19 20 21 22 23 24]\n",
      "Month ['December']\n",
      "Categories (1, object): ['December']\n",
      "Year [2021]\n",
      "Customer_Age [39 44 37 31 24 42 35 23 27 36 47 30 38 19 33 41 34 40 26 32 49 29 17 25\n",
      " 63 18 56 57]\n",
      "Age_Group ['Adults' 'Young Adults' 'Youth']\n",
      "Customer_Gender ['F' 'M']\n",
      "Country ['United States' 'United Kingdom' ' United States' 'Australia'\n",
      " 'United  States' 'United States ' 'Germany' 'Canada' 'France']\n",
      "State ['California' 'England' 'New South Wales' 'Washington'\n",
      " 'Nordrhein-Westfalen' 'Queensland' 'British Columbia' 'Oregon' 'Victoria'\n",
      " 'Hamburg' 'Paris' 'Seine et Marne' 'Seine Saint Denis' 'Nord'\n",
      " 'South Australia' 'Hessen' 'Somme']\n",
      "Product_Category ['Bikes']\n",
      "Categories (1, object): ['Bikes']\n",
      "Sub_Category ['Mountain Bikes']\n",
      "Categories (1, object): ['Mountain Bikes']\n",
      "Product_Description ['Mountain-200 Black, 46' 'Mountain-200 Silver, 42'\n",
      " 'Mountain-400-W Silver, 46' 'Mountain-400-W Silver, 42'\n",
      " 'Mountain-200 Black, 38' 'Mountain-200 Silver, 38'\n",
      " 'Mountain-200 Black, 42' 'Mountain-400-W Silver, 38'\n",
      " 'Mountain-500 Silver, 42' 'Mountain-500 Black, 42'\n",
      " 'Mountain-100 Black, 38' 'Mountain-500 Black, 40'\n",
      " 'Mountain-100 Silver, 44' 'Mountain-500 Silver, 40'\n",
      " 'Mountain-200 Silver, 46' 'Mountain-500 Black, 44'\n",
      " 'Mountain-100 Black, 48' 'Mountain-500 Black, 52']\n",
      "Order_Quantity [4 1 2 3]\n",
      "Unit_Cost [1252 1266  420  308  295 1898 1912]\n",
      "Unit_Price [2295 2320  769  565  540 3375 3400]\n",
      "Profit [4172 1054  698  349 2086 1043 1396 1047 2108 1028 4216  245 2954 1488\n",
      " 3129 3162  257  980 5908  490  735]\n",
      "Cost [5008 1266  840  420 2504 1252 1680 1260 2532 1232 5064  295 3796 1912\n",
      " 3756 3798  308 1180 7592  590  885]\n",
      "Revenue [ 9180  2320  1538   769  4590  2295  3076  2307  4640  2260  9280   540\n",
      "  6750  3400  6885  6960   565  2160 13500  1080  1620]\n",
      "Age_Range ['35-64' '25-34' '<25' nan]\n",
      "Model_Name ['Mountain-200' 'Mountain-400-W' 'Mountain-500' 'Mountain-100']\n",
      "Colour ['Black' 'Silver']\n",
      "Size ['46' '42' '38' '40' '44' '48' '52']\n"
     ]
    }
   ],
   "source": [
    "#Looking for incorrect data\n",
    "tem_df.columns = tem_df.columns.tolist()\n",
    "for i in tem_df.columns:\n",
    "    print(i,tem_df[i].unique())\n"
   ]
  },
  {
   "cell_type": "code",
   "execution_count": 106,
   "id": "1000f1a4-0460-44d3-91ab-10bca979c143",
   "metadata": {},
   "outputs": [],
   "source": [
    "#Replacing incorrect data.\n",
    "    #a) Replace \"Decmber\" with December in \"Month Column\".\n",
    "tem_df[\"Month\"] = tem_df[\"Month\"].replace(\"Decmber\",\"December\")"
   ]
  },
  {
   "cell_type": "code",
   "execution_count": 109,
   "id": "dbd575c4-7059-4e4f-b0ba-7861311010f0",
   "metadata": {},
   "outputs": [],
   "source": [
    "     #b) Replace \"Seine (Paris)\" with \"Paris\" in \"State\" Column.\n",
    "tem_df[\"State\"]=tem_df[\"State\"].replace(\"Seine (Paris)\",\"Paris\")"
   ]
  },
  {
   "cell_type": "code",
   "execution_count": 172,
   "id": "f94eec16-d2b5-4850-8ea4-ef3cbd8b1748",
   "metadata": {},
   "outputs": [],
   "source": [
    "    #c) Replacing value 0 with correct value in columns (\"Unit_Cost\",\"Unit_Price\",\"Cost\",\"Revenue\")."
   ]
  },
  {
   "cell_type": "code",
   "execution_count": 140,
   "id": "e887a8d8-97ef-4306-990f-5c267ace40f3",
   "metadata": {},
   "outputs": [
    {
     "data": {
      "text/html": [
       "<div>\n",
       "<style scoped>\n",
       "    .dataframe tbody tr th:only-of-type {\n",
       "        vertical-align: middle;\n",
       "    }\n",
       "\n",
       "    .dataframe tbody tr th {\n",
       "        vertical-align: top;\n",
       "    }\n",
       "\n",
       "    .dataframe thead th {\n",
       "        text-align: right;\n",
       "    }\n",
       "</style>\n",
       "<table border=\"1\" class=\"dataframe\">\n",
       "  <thead>\n",
       "    <tr style=\"text-align: right;\">\n",
       "      <th></th>\n",
       "      <th>Sales_Order #</th>\n",
       "      <th>Date</th>\n",
       "      <th>Day</th>\n",
       "      <th>Month</th>\n",
       "      <th>Year</th>\n",
       "      <th>Customer_Age</th>\n",
       "      <th>Age_Group</th>\n",
       "      <th>Customer_Gender</th>\n",
       "      <th>Country</th>\n",
       "      <th>State</th>\n",
       "      <th>Product_Category</th>\n",
       "      <th>Sub_Category</th>\n",
       "      <th>Product_Description</th>\n",
       "      <th>Order_Quantity</th>\n",
       "      <th>Unit_Cost</th>\n",
       "      <th>Unit_Price</th>\n",
       "      <th>Profit</th>\n",
       "      <th>Cost</th>\n",
       "      <th>Revenue</th>\n",
       "      <th>Age_Range</th>\n",
       "      <th>Model_Name</th>\n",
       "      <th>Colour</th>\n",
       "      <th>Size</th>\n",
       "    </tr>\n",
       "  </thead>\n",
       "  <tbody>\n",
       "    <tr>\n",
       "      <th>4</th>\n",
       "      <td>261699</td>\n",
       "      <td>2021-12-03</td>\n",
       "      <td>3</td>\n",
       "      <td>December</td>\n",
       "      <td>2021</td>\n",
       "      <td>37</td>\n",
       "      <td>Adults</td>\n",
       "      <td>F</td>\n",
       "      <td>United  States</td>\n",
       "      <td>California</td>\n",
       "      <td>Bikes</td>\n",
       "      <td>Mountain Bikes</td>\n",
       "      <td>Mountain-200 Black, 46</td>\n",
       "      <td>2</td>\n",
       "      <td>1252</td>\n",
       "      <td>2295</td>\n",
       "      <td>2086</td>\n",
       "      <td>0</td>\n",
       "      <td>4590</td>\n",
       "      <td>Adults</td>\n",
       "      <td>Mountain-200</td>\n",
       "      <td>Black</td>\n",
       "      <td>46</td>\n",
       "    </tr>\n",
       "    <tr>\n",
       "      <th>8</th>\n",
       "      <td>261702</td>\n",
       "      <td>2021-12-04</td>\n",
       "      <td>4</td>\n",
       "      <td>December</td>\n",
       "      <td>2021</td>\n",
       "      <td>31</td>\n",
       "      <td>Young Adults</td>\n",
       "      <td>F</td>\n",
       "      <td>Australia</td>\n",
       "      <td>New South Wales</td>\n",
       "      <td>Bikes</td>\n",
       "      <td>Mountain Bikes</td>\n",
       "      <td>Mountain-400-W Silver, 42</td>\n",
       "      <td>4</td>\n",
       "      <td>420</td>\n",
       "      <td>769</td>\n",
       "      <td>1396</td>\n",
       "      <td>1680</td>\n",
       "      <td>0</td>\n",
       "      <td>Young Adults</td>\n",
       "      <td>Mountain-400-W</td>\n",
       "      <td>Silver</td>\n",
       "      <td>42</td>\n",
       "    </tr>\n",
       "    <tr>\n",
       "      <th>22</th>\n",
       "      <td>261716</td>\n",
       "      <td>2021-12-08</td>\n",
       "      <td>8</td>\n",
       "      <td>December</td>\n",
       "      <td>2021</td>\n",
       "      <td>35</td>\n",
       "      <td>Adults</td>\n",
       "      <td>F</td>\n",
       "      <td>United States</td>\n",
       "      <td>California</td>\n",
       "      <td>Bikes</td>\n",
       "      <td>Mountain Bikes</td>\n",
       "      <td>Mountain-500 Black, 42</td>\n",
       "      <td>1</td>\n",
       "      <td>295</td>\n",
       "      <td>540</td>\n",
       "      <td>245</td>\n",
       "      <td>0</td>\n",
       "      <td>0</td>\n",
       "      <td>Adults</td>\n",
       "      <td>Mountain-500</td>\n",
       "      <td>Black</td>\n",
       "      <td>42</td>\n",
       "    </tr>\n",
       "  </tbody>\n",
       "</table>\n",
       "</div>"
      ],
      "text/plain": [
       "    Sales_Order #       Date  Day     Month  Year  Customer_Age  \\\n",
       "4          261699 2021-12-03    3  December  2021            37   \n",
       "8          261702 2021-12-04    4  December  2021            31   \n",
       "22         261716 2021-12-08    8  December  2021            35   \n",
       "\n",
       "        Age_Group Customer_Gender         Country            State  \\\n",
       "4         Adults                F  United  States       California   \n",
       "8   Young Adults                F       Australia  New South Wales   \n",
       "22        Adults                F   United States       California   \n",
       "\n",
       "   Product_Category    Sub_Category        Product_Description  \\\n",
       "4             Bikes  Mountain Bikes     Mountain-200 Black, 46   \n",
       "8             Bikes  Mountain Bikes  Mountain-400-W Silver, 42   \n",
       "22            Bikes  Mountain Bikes     Mountain-500 Black, 42   \n",
       "\n",
       "    Order_Quantity  Unit_Cost  Unit_Price  Profit  Cost  Revenue  \\\n",
       "4                2       1252        2295    2086     0     4590   \n",
       "8                4        420         769    1396  1680        0   \n",
       "22               1        295         540     245     0        0   \n",
       "\n",
       "        Age_Range      Model_Name  Colour  Size  \n",
       "4         Adults     Mountain-200   Black    46  \n",
       "8   Young Adults   Mountain-400-W  Silver    42  \n",
       "22        Adults     Mountain-500   Black    42  "
      ]
     },
     "execution_count": 140,
     "metadata": {},
     "output_type": "execute_result"
    }
   ],
   "source": [
    "        #c.1)using the formula ((Unit_Price-Unit_Cost)*Order_Quantity = Profit) for replacing 0 values in \"Unit_Cost\" & \"Unit_Price\" with correct values.\n",
    "tem_df[\"Unit_Cost\"]=tem_df[\"Unit_Cost\"].replace(0,1252)\n",
    "tem_df[\"Unit_Price\"]=tem_df[\"Unit_Price\"].replace(0,769)\n",
    "tem_df[(tem_df[\"Unit_Cost\"] == 0) | (tem_df[\"Unit_Price\"] == 0) | (tem_df[\"Cost\"] == 0) | (tem_df[\"Revenue\"] == 0) ]        "
   ]
  },
  {
   "cell_type": "code",
   "execution_count": 142,
   "id": "25ecd4e4-81fc-4bb9-ac36-cb4427395d6b",
   "metadata": {},
   "outputs": [
    {
     "data": {
      "text/html": [
       "<div>\n",
       "<style scoped>\n",
       "    .dataframe tbody tr th:only-of-type {\n",
       "        vertical-align: middle;\n",
       "    }\n",
       "\n",
       "    .dataframe tbody tr th {\n",
       "        vertical-align: top;\n",
       "    }\n",
       "\n",
       "    .dataframe thead th {\n",
       "        text-align: right;\n",
       "    }\n",
       "</style>\n",
       "<table border=\"1\" class=\"dataframe\">\n",
       "  <thead>\n",
       "    <tr style=\"text-align: right;\">\n",
       "      <th></th>\n",
       "      <th>Sales_Order #</th>\n",
       "      <th>Date</th>\n",
       "      <th>Day</th>\n",
       "      <th>Month</th>\n",
       "      <th>Year</th>\n",
       "      <th>Customer_Age</th>\n",
       "      <th>Age_Group</th>\n",
       "      <th>Customer_Gender</th>\n",
       "      <th>Country</th>\n",
       "      <th>State</th>\n",
       "      <th>Product_Category</th>\n",
       "      <th>Sub_Category</th>\n",
       "      <th>Product_Description</th>\n",
       "      <th>Order_Quantity</th>\n",
       "      <th>Unit_Cost</th>\n",
       "      <th>Unit_Price</th>\n",
       "      <th>Profit</th>\n",
       "      <th>Cost</th>\n",
       "      <th>Revenue</th>\n",
       "      <th>Age_Range</th>\n",
       "      <th>Model_Name</th>\n",
       "      <th>Colour</th>\n",
       "      <th>Size</th>\n",
       "    </tr>\n",
       "  </thead>\n",
       "  <tbody>\n",
       "    <tr>\n",
       "      <th>8</th>\n",
       "      <td>261702</td>\n",
       "      <td>2021-12-04</td>\n",
       "      <td>4</td>\n",
       "      <td>December</td>\n",
       "      <td>2021</td>\n",
       "      <td>31</td>\n",
       "      <td>Young Adults</td>\n",
       "      <td>F</td>\n",
       "      <td>Australia</td>\n",
       "      <td>New South Wales</td>\n",
       "      <td>Bikes</td>\n",
       "      <td>Mountain Bikes</td>\n",
       "      <td>Mountain-400-W Silver, 42</td>\n",
       "      <td>4</td>\n",
       "      <td>420</td>\n",
       "      <td>769</td>\n",
       "      <td>1396</td>\n",
       "      <td>1680</td>\n",
       "      <td>0</td>\n",
       "      <td>Young Adults</td>\n",
       "      <td>Mountain-400-W</td>\n",
       "      <td>Silver</td>\n",
       "      <td>42</td>\n",
       "    </tr>\n",
       "    <tr>\n",
       "      <th>22</th>\n",
       "      <td>261716</td>\n",
       "      <td>2021-12-08</td>\n",
       "      <td>8</td>\n",
       "      <td>December</td>\n",
       "      <td>2021</td>\n",
       "      <td>35</td>\n",
       "      <td>Adults</td>\n",
       "      <td>F</td>\n",
       "      <td>United States</td>\n",
       "      <td>California</td>\n",
       "      <td>Bikes</td>\n",
       "      <td>Mountain Bikes</td>\n",
       "      <td>Mountain-500 Black, 42</td>\n",
       "      <td>1</td>\n",
       "      <td>295</td>\n",
       "      <td>540</td>\n",
       "      <td>245</td>\n",
       "      <td>295</td>\n",
       "      <td>0</td>\n",
       "      <td>Adults</td>\n",
       "      <td>Mountain-500</td>\n",
       "      <td>Black</td>\n",
       "      <td>42</td>\n",
       "    </tr>\n",
       "  </tbody>\n",
       "</table>\n",
       "</div>"
      ],
      "text/plain": [
       "    Sales_Order #       Date  Day     Month  Year  Customer_Age  \\\n",
       "8          261702 2021-12-04    4  December  2021            31   \n",
       "22         261716 2021-12-08    8  December  2021            35   \n",
       "\n",
       "        Age_Group Customer_Gender        Country            State  \\\n",
       "8   Young Adults                F      Australia  New South Wales   \n",
       "22        Adults                F  United States       California   \n",
       "\n",
       "   Product_Category    Sub_Category        Product_Description  \\\n",
       "8             Bikes  Mountain Bikes  Mountain-400-W Silver, 42   \n",
       "22            Bikes  Mountain Bikes     Mountain-500 Black, 42   \n",
       "\n",
       "    Order_Quantity  Unit_Cost  Unit_Price  Profit  Cost  Revenue  \\\n",
       "8                4        420         769    1396  1680        0   \n",
       "22               1        295         540     245   295        0   \n",
       "\n",
       "        Age_Range      Model_Name  Colour  Size  \n",
       "8   Young Adults   Mountain-400-W  Silver    42  \n",
       "22        Adults     Mountain-500   Black    42  "
      ]
     },
     "execution_count": 142,
     "metadata": {},
     "output_type": "execute_result"
    }
   ],
   "source": [
    "        #c.2)Using the formula(Unit_Cost*Order_Quantity = Cost) replacing 0 values in \"Cost\" with correct values.\n",
    "tem_df[\"Cost\"]=tem_df[\"Unit_Cost\"]*tem_df[\"Order_Quantity\"]\n",
    "tem_df[(tem_df[\"Unit_Cost\"] == 0) | (tem_df[\"Unit_Price\"] == 0) | (tem_df[\"Cost\"] == 0) | (tem_df[\"Revenue\"] == 0) ]   "
   ]
  },
  {
   "cell_type": "code",
   "execution_count": 144,
   "id": "bee15258-bab0-4f98-8b39-b3ef68ac838f",
   "metadata": {},
   "outputs": [
    {
     "data": {
      "text/html": [
       "<div>\n",
       "<style scoped>\n",
       "    .dataframe tbody tr th:only-of-type {\n",
       "        vertical-align: middle;\n",
       "    }\n",
       "\n",
       "    .dataframe tbody tr th {\n",
       "        vertical-align: top;\n",
       "    }\n",
       "\n",
       "    .dataframe thead th {\n",
       "        text-align: right;\n",
       "    }\n",
       "</style>\n",
       "<table border=\"1\" class=\"dataframe\">\n",
       "  <thead>\n",
       "    <tr style=\"text-align: right;\">\n",
       "      <th></th>\n",
       "      <th>Sales_Order #</th>\n",
       "      <th>Date</th>\n",
       "      <th>Day</th>\n",
       "      <th>Month</th>\n",
       "      <th>Year</th>\n",
       "      <th>Customer_Age</th>\n",
       "      <th>Age_Group</th>\n",
       "      <th>Customer_Gender</th>\n",
       "      <th>Country</th>\n",
       "      <th>State</th>\n",
       "      <th>Product_Category</th>\n",
       "      <th>Sub_Category</th>\n",
       "      <th>Product_Description</th>\n",
       "      <th>Order_Quantity</th>\n",
       "      <th>Unit_Cost</th>\n",
       "      <th>Unit_Price</th>\n",
       "      <th>Profit</th>\n",
       "      <th>Cost</th>\n",
       "      <th>Revenue</th>\n",
       "      <th>Age_Range</th>\n",
       "      <th>Model_Name</th>\n",
       "      <th>Colour</th>\n",
       "      <th>Size</th>\n",
       "    </tr>\n",
       "  </thead>\n",
       "  <tbody>\n",
       "  </tbody>\n",
       "</table>\n",
       "</div>"
      ],
      "text/plain": [
       "Empty DataFrame\n",
       "Columns: [Sales_Order #, Date, Day, Month, Year, Customer_Age, Age_Group, Customer_Gender, Country, State, Product_Category, Sub_Category, Product_Description, Order_Quantity, Unit_Cost, Unit_Price, Profit, Cost, Revenue, Age_Range, Model_Name, Colour, Size]\n",
       "Index: []"
      ]
     },
     "execution_count": 144,
     "metadata": {},
     "output_type": "execute_result"
    }
   ],
   "source": [
    "        #c.3)Using the formula(Profit+Cost = Revenue) replacing 0 values in \"Revenue\" with correct values.\n",
    "tem_df[\"Revenue\"]=tem_df[\"Profit\"]+tem_df[\"Cost\"]\n",
    "tem_df[(tem_df[\"Unit_Cost\"] == 0) | (tem_df[\"Unit_Price\"] == 0) | (tem_df[\"Cost\"] == 0) | (tem_df[\"Revenue\"] == 0) ] "
   ]
  },
  {
   "cell_type": "code",
   "execution_count": 215,
   "id": "a47a8d2f-2116-4fcb-b6a7-b0a719997a7a",
   "metadata": {},
   "outputs": [
    {
     "data": {
      "text/plain": [
       "1252"
      ]
     },
     "execution_count": 215,
     "metadata": {},
     "output_type": "execute_result"
    }
   ],
   "source": [
    "#Checking the values correctly entered or not.\n",
    "tem_df.loc[4,\"Unit_Cost\"]"
   ]
  },
  {
   "cell_type": "code",
   "execution_count": 216,
   "id": "786df85d-4cf5-46b7-b4c0-305b0e35ff8b",
   "metadata": {},
   "outputs": [
    {
     "data": {
      "text/plain": [
       "769"
      ]
     },
     "execution_count": 216,
     "metadata": {},
     "output_type": "execute_result"
    }
   ],
   "source": [
    "tem_df.loc[8,\"Unit_Price\"]"
   ]
  },
  {
   "cell_type": "code",
   "execution_count": 222,
   "id": "5972efd5-2ac2-4f6e-85cc-6b83a26461d3",
   "metadata": {},
   "outputs": [
    {
     "data": {
      "text/plain": [
       "Sales_Order #                          261716\n",
       "Date                      2021-12-08 00:00:00\n",
       "Day                                         8\n",
       "Month                                December\n",
       "Year                                     2021\n",
       "Customer_Age                               35\n",
       "Age_Group                              Adults\n",
       "Customer_Gender                             F\n",
       "Country                         United States\n",
       "State                              California\n",
       "Product_Category                        Bikes\n",
       "Sub_Category                   Mountain Bikes\n",
       "Product_Description    Mountain-500 Black, 42\n",
       "Order_Quantity                              1\n",
       "Unit_Cost                                 295\n",
       "Unit_Price                                540\n",
       "Profit                                    245\n",
       "Cost                                      295\n",
       "Revenue                                   540\n",
       "Age_Range                               35-64\n",
       "Model_Name                       Mountain-500\n",
       "Colour                                  Black\n",
       "Size                                       42\n",
       "Name: 22, dtype: object"
      ]
     },
     "execution_count": 222,
     "metadata": {},
     "output_type": "execute_result"
    }
   ],
   "source": [
    "tem_df.loc[22]"
   ]
  },
  {
   "cell_type": "code",
   "execution_count": 227,
   "id": "12704123-c703-4318-a65d-5adba585cf8d",
   "metadata": {},
   "outputs": [
    {
     "name": "stdout",
     "output_type": "stream",
     "text": [
      "Sales_Order # [261695 261697 261698 261699 261700 261701 261702 261703 261704 261705\n",
      " 261706 261707 261708 261709 261710 261711 261712 261713 261714 261715\n",
      " 261716 261717 261718 261719 261720 261721 261722 261723 261724 261725\n",
      " 261726 261727 261728 261729 261730 261731 261732 261733 261734 261735\n",
      " 261736 261737 261738 261739 261740 261741 261742 261743 261744 261745\n",
      " 261746 261747 261748 261749 261750 261751 261752 261753 261754 261755\n",
      " 261756 261757 261758 261759 261760 261761 261762 261763 261764 261765\n",
      " 261766 261767 261768 261769 261770 261771 261772 261773 261774 261775\n",
      " 261776 261777 261778 261779 261780 261781 261782]\n",
      "Date <DatetimeArray>\n",
      "['2021-12-01 00:00:00', '2021-12-02 00:00:00', '2021-12-03 00:00:00',\n",
      " '2021-12-04 00:00:00', '2021-12-05 00:00:00', '2021-12-06 00:00:00',\n",
      " '2021-12-07 00:00:00', '2021-12-08 00:00:00', '2021-12-09 00:00:00',\n",
      " '2021-12-10 00:00:00', '2021-12-11 00:00:00', '2021-12-12 00:00:00',\n",
      " '2021-12-13 00:00:00', '2021-12-14 00:00:00', '2021-12-15 00:00:00',\n",
      " '2021-12-16 00:00:00', '2021-12-17 00:00:00', '2021-12-18 00:00:00',\n",
      " '2021-12-19 00:00:00', '2021-12-20 00:00:00', '2021-12-21 00:00:00',\n",
      " '2021-12-22 00:00:00', '2021-12-23 00:00:00', '2021-12-24 00:00:00']\n",
      "Length: 24, dtype: datetime64[ns]\n",
      "Day [ 1  2  3  4  5  6  7  8  9 10 11 12 13 14 15 16 17 18 19 20 21 22 23 24]\n",
      "Month ['December']\n",
      "Categories (1, object): ['December']\n",
      "Year [2021]\n",
      "Customer_Age [39 44 37 31 24 42 35 23 27 36 47 30 38 19 33 41 34 40 26 32 49 29 17 25\n",
      " 63 18 56 57]\n",
      "Age_Group ['Adults' 'Young Adults' 'Youth']\n",
      "Customer_Gender ['F' 'M']\n",
      "Country ['United States' 'United Kingdom' 'Australia' 'Germany' 'Canada' 'France']\n",
      "State ['California' 'England' 'New South Wales' 'Washington'\n",
      " 'Nordrhein-Westfalen' 'Queensland' 'British Columbia' 'Oregon' 'Victoria'\n",
      " 'Hamburg' 'Paris' 'Seine et Marne' 'Seine Saint Denis' 'Nord'\n",
      " 'South Australia' 'Hessen' 'Somme']\n",
      "Product_Category ['Bikes']\n",
      "Categories (1, object): ['Bikes']\n",
      "Sub_Category ['Mountain Bikes']\n",
      "Categories (1, object): ['Mountain Bikes']\n",
      "Product_Description ['Mountain-200 Black, 46' 'Mountain-200 Silver, 42'\n",
      " 'Mountain-400-W Silver, 46' 'Mountain-400-W Silver, 42'\n",
      " 'Mountain-200 Black, 38' 'Mountain-200 Silver, 38'\n",
      " 'Mountain-200 Black, 42' 'Mountain-400-W Silver, 38'\n",
      " 'Mountain-500 Silver, 42' 'Mountain-500 Black, 42'\n",
      " 'Mountain-100 Black, 38' 'Mountain-500 Black, 40'\n",
      " 'Mountain-100 Silver, 44' 'Mountain-500 Silver, 40'\n",
      " 'Mountain-200 Silver, 46' 'Mountain-500 Black, 44'\n",
      " 'Mountain-100 Black, 48' 'Mountain-500 Black, 52']\n",
      "Order_Quantity [4 1 2 3]\n",
      "Unit_Cost [1252 1266  420  308  295 1898 1912]\n",
      "Unit_Price [2295 2320  769  565  540 3375 3400]\n",
      "Profit [4172 1054  698  349 2086 1043 1396 1047 2108 1028 4216  245 2954 1488\n",
      " 3129 3162  257  980 5908  490  735]\n",
      "Cost [5008 1266  840  420 2504 1252 1680 1260 2532 1232 5064  295 3796 1912\n",
      " 3756 3798  308 1180 7592  590  885]\n",
      "Revenue [ 9180  2320  1538   769  4590  2295  3076  2307  4640  2260  9280   540\n",
      "  6750  3400  6885  6960   565  2160 13500  1080  1620]\n",
      "Age_Range ['35-64' '25-34' '<25' nan]\n",
      "Model_Name ['Mountain-200' 'Mountain-400-W' 'Mountain-500' 'Mountain-100']\n",
      "Colour ['Black' 'Silver']\n",
      "Size ['46' '42' '38' '40' '44' '48' '52']\n"
     ]
    }
   ],
   "source": [
    "for i in tem_df.columns:\n",
    "    print(i,tem_df[i].unique())"
   ]
  },
  {
   "cell_type": "code",
   "execution_count": 175,
   "id": "baae0fd4-93c9-4747-b0bf-61f3d3b08b58",
   "metadata": {},
   "outputs": [
    {
     "data": {
      "text/plain": [
       "(89, 23)"
      ]
     },
     "execution_count": 175,
     "metadata": {},
     "output_type": "execute_result"
    }
   ],
   "source": [
    "tem_df.shape"
   ]
  },
  {
   "cell_type": "code",
   "execution_count": 279,
   "id": "f1b8c6ca-cea4-4e02-ae78-b723bf377213",
   "metadata": {},
   "outputs": [
    {
     "data": {
      "text/plain": [
       "Country\n",
       "Australia         111506\n",
       "Canada             20080\n",
       "France             46175\n",
       "Germany            30010\n",
       "United Kingdom     19972\n",
       "United States     135784\n",
       "Name: Revenue, dtype: int64"
      ]
     },
     "execution_count": 279,
     "metadata": {},
     "output_type": "execute_result"
    }
   ],
   "source": [
    "# Analyze the data based upon their Countries and Total Revenue generated.\n",
    "state_revenue_sum = tem_df.groupby(\"Country\")[\"Revenue\"].sum()\n",
    "state_revenue_sum"
   ]
  },
  {
   "cell_type": "code",
   "execution_count": 323,
   "id": "0f02b39e-85c1-4e69-ae06-bcce174e437d",
   "metadata": {},
   "outputs": [
    {
     "data": {
      "image/png": "[encoded data removed]",
      "text/plain": [
       "<Figure size 640x480 with 1 Axes>"
      ]
     },
     "metadata": {},
     "output_type": "display_data"
    }
   ],
   "source": [
    "#Using Bar Plot\n",
    "sns.barplot(x = state_revenue_sum.index,y = state_revenue_sum.values)\n",
    "plt.xticks(rotation = 45)\n",
    "plt.show()"
   ]
  },
  {
   "cell_type": "code",
   "execution_count": null,
   "id": "c0d1fbb9-7540-4933-9500-61ea62363d48",
   "metadata": {},
   "outputs": [],
   "source": [
    "#Conclusion - From this plot we can see that \"United States\" produce the highest Revenue followed by\"Australia\" and then \"France\" and so on."
   ]
  },
  {
   "cell_type": "code",
   "execution_count": null,
   "id": "ef5aaea5-8102-4877-a7bf-78c1fd741450",
   "metadata": {},
   "outputs": [],
   "source": []
  },
  {
   "cell_type": "code",
   "execution_count": 285,
   "id": "fc0f25ee-2e55-42a4-b950-7027e2ee4f42",
   "metadata": {},
   "outputs": [
    {
     "data": {
      "image/png": "[encoded data removed]",
      "text/plain": [
       "<Figure size 1500x800 with 8 Axes>"
      ]
     },
     "metadata": {},
     "output_type": "display_data"
    }
   ],
   "source": [
    "#Analyzing data based upon Histogram Plots of all the numerical columns.\n",
    "numerical_cols = [\"Day\",\"Customer_Age\", \"Order_Quantity\", \"Unit_Cost\", \"Unit_Price\", \"Profit\", \"Cost\", \"Revenue\"]\n",
    "fig, axes = plt.subplots(nrows=2, ncols=4, figsize=(15, 8))\n",
    "for i, col in enumerate(numerical_cols):\n",
    "    sns.histplot(data=tem_df, x=col, bins=20, color='skyblue', edgecolor='black', kde=True, ax=axes[i// 4, i % 4])\n"
   ]
  },
  {
   "cell_type": "code",
   "execution_count": null,
   "id": "29eda2e5-a7f3-42b1-8796-88b9edf9497b",
   "metadata": {},
   "outputs": [],
   "source": [
    "#Conclusion: 1) Significant portion of sales occurred between Day 15 and Day 20\n",
    "            #2) Customer Age is mostly in between 30 to 40.\n",
    "            #3) Mostly the order quantity is 1 and followed by 4 after that.\n",
    "            #4) Unit cost ranges between 1200 to 1400 mostly."
   ]
  },
  {
   "cell_type": "code",
   "execution_count": null,
   "id": "89ea6086-05ce-419f-b7b2-f96cee6a1dff",
   "metadata": {},
   "outputs": [],
   "source": []
  },
  {
   "cell_type": "code",
   "execution_count": 290,
   "id": "d7670cdf-19ec-44f3-9e7e-2f7b3d443afb",
   "metadata": {},
   "outputs": [],
   "source": [
    "#Analyze data based upon all the category column in dataframe.\n",
    "cat_columns = [\"Month\",\"Age_Group\",\"Customer_Gender\",\"Product_Category\",\"Sub_Category\",\"Age_Range\",\"Model_Name\",\"Colour\",\"Size\"]"
   ]
  },
  {
   "cell_type": "code",
   "execution_count": 319,
   "id": "aef699a0-3fe3-491f-88ae-f422dd5ab299",
   "metadata": {},
   "outputs": [
    {
     "ename": "IndexError",
     "evalue": "index 2 is out of bounds for axis 0 with size 2",
     "output_type": "error",
     "traceback": [
      "\u001b[1;31m---------------------------------------------------------------------------\u001b[0m",
      "\u001b[1;31mIndexError\u001b[0m                                Traceback (most recent call last)",
      "Cell \u001b[1;32mIn[319], line 3\u001b[0m\n\u001b[0;32m      1\u001b[0m fig, axes \u001b[38;5;241m=\u001b[39m plt\u001b[38;5;241m.\u001b[39msubplots(ncols \u001b[38;5;241m=\u001b[39m \u001b[38;5;241m4\u001b[39m,nrows\u001b[38;5;241m=\u001b[39m \u001b[38;5;241m2\u001b[39m,figsize \u001b[38;5;241m=\u001b[39m (\u001b[38;5;241m15\u001b[39m,\u001b[38;5;241m5\u001b[39m))\n\u001b[0;32m      2\u001b[0m \u001b[38;5;28;01mfor\u001b[39;00m i, col \u001b[38;5;129;01min\u001b[39;00m \u001b[38;5;28menumerate\u001b[39m(cat_columns):\n\u001b[1;32m----> 3\u001b[0m     sns\u001b[38;5;241m.\u001b[39mcountplot(data \u001b[38;5;241m=\u001b[39m tem_df,x \u001b[38;5;241m=\u001b[39m col,ax \u001b[38;5;241m=\u001b[39m \u001b[43maxes\u001b[49m\u001b[43m[\u001b[49m\u001b[43mi\u001b[49m\u001b[38;5;241;43m/\u001b[39;49m\u001b[38;5;241;43m/\u001b[39;49m\u001b[38;5;241;43m4\u001b[39;49m\u001b[43m,\u001b[49m\u001b[43mi\u001b[49m\u001b[38;5;241;43m%\u001b[39;49m\u001b[38;5;241;43m4\u001b[39;49m\u001b[43m]\u001b[49m)\n\u001b[0;32m      4\u001b[0m     plt\u001b[38;5;241m.\u001b[39mtight_layout()\n",
      "\u001b[1;31mIndexError\u001b[0m: index 2 is out of bounds for axis 0 with size 2"
     ]
    },
    {
     "data": {
      "image/png": "[encoded data removed]",
      "text/plain": [
       "<Figure size 1500x500 with 8 Axes>"
      ]
     },
     "metadata": {},
     "output_type": "display_data"
    }
   ],
   "source": [
    "fig, axes = plt.subplots(ncols = 4,nrows= 2,figsize = (15,5))\n",
    "for i, col in enumerate(cat_columns):\n",
    "    sns.countplot(data = tem_df,x = col,ax = axes[i//4,i%4])\n",
    "    plt.tight_layout()"
   ]
  },
  {
   "cell_type": "code",
   "execution_count": null,
   "id": "0c5cd0a3-be23-46ae-8080-d2ddaa895c2b",
   "metadata": {},
   "outputs": [],
   "source": [
    "# Conclusion: 1)There are more adults buyers.\n",
    "            #2) Females Customers are more as compared to male.\n",
    "            #3) Both the colours (Black & Silver) are sold almost equally, so there ir no more preffered colour."
   ]
  },
  {
   "cell_type": "code",
   "execution_count": null,
   "id": "14690566-d0d8-4d25-8eaa-7211b17e2822",
   "metadata": {},
   "outputs": [],
   "source": []
  },
  {
   "cell_type": "code",
   "execution_count": 286,
   "id": "3d1c4fed-57bc-4114-ada9-711e76737074",
   "metadata": {},
   "outputs": [
    {
     "data": {
      "image/png": "[encoded data removed]",
      "text/plain": [
       "<Figure size 2500x2500 with 110 Axes>"
      ]
     },
     "metadata": {},
     "output_type": "display_data"
    }
   ],
   "source": [
    "#Analyzing data using pairplot.\n",
    "sns.pairplot(tem_df)\n",
    "plt.tight_layout()"
   ]
  },
  {
   "cell_type": "code",
   "execution_count": null,
   "id": "b07bfa61-bf7f-4322-bb46-f7c5fd229abe",
   "metadata": {},
   "outputs": [],
   "source": [
    "#Conclusion: 1)There is a direct strong relation between \"Profit\" and \"Cost\" column as we can see cost is increasing so does the profit.\n",
    "            #2)There is a direct relation between \"Profit\" and \"Revenue\" column as we can see Revenue is increasing so does the profit."
   ]
  },
  {
   "cell_type": "code",
   "execution_count": 324,
   "id": "b73bceba-0def-4f74-b8f9-c3fc77de8dad",
   "metadata": {},
   "outputs": [
    {
     "data": {
      "text/plain": [
       "<Axes: xlabel='Profit', ylabel='Cost'>"
      ]
     },
     "execution_count": 324,
     "metadata": {},
     "output_type": "execute_result"
    },
    {
     "data": {
      "image/png": "[encoded data removed]",
      "text/plain": [
       "<Figure size 640x480 with 1 Axes>"
      ]
     },
     "metadata": {},
     "output_type": "display_data"
    }
   ],
   "source": [
    "#More clearer representation between the coorelation of Profit and Cost.\n",
    "sns.scatterplot(data = tem_df,x = \"Profit\", y = \"Cost\")"
   ]
  },
  {
   "cell_type": "code",
   "execution_count": null,
   "id": "4d284c4e-8c9b-43a9-9758-3d8c0fcdf6eb",
   "metadata": {},
   "outputs": [],
   "source": []
  },
  {
   "cell_type": "code",
   "execution_count": null,
   "id": "aec048a8-d010-43b1-a737-36a94aa18061",
   "metadata": {},
   "outputs": [],
   "source": []
  },
  {
   "cell_type": "code",
   "execution_count": null,
   "id": "a075e0d6-57dc-41e6-bab4-641c41cb9db8",
   "metadata": {},
   "outputs": [],
   "source": []
  },
  {
   "cell_type": "code",
   "execution_count": null,
   "id": "4d80ceba-976c-49cb-b51c-8c7e98a22853",
   "metadata": {},
   "outputs": [],
   "source": []
  },
  {
   "cell_type": "code",
   "execution_count": null,
   "id": "914dd409-22a9-4ad3-a9f3-d64b8660339f",
   "metadata": {},
   "outputs": [],
   "source": []
  },
  {
   "cell_type": "code",
   "execution_count": null,
   "id": "4eef3dde-0a90-4a11-a208-29512c0636fe",
   "metadata": {},
   "outputs": [],
   "source": []
  },
  {
   "cell_type": "code",
   "execution_count": null,
   "id": "6a962b7b-f3b0-4bb9-b42e-3f9c0cc01274",
   "metadata": {},
   "outputs": [],
   "source": []
  },
  {
   "cell_type": "code",
   "execution_count": null,
   "id": "a1fd90d9-4520-44f2-ac72-9ea6a8e7e8f7",
   "metadata": {},
   "outputs": [],
   "source": []
  },
  {
   "cell_type": "code",
   "execution_count": null,
   "id": "3c8345a2-fd77-4129-8a98-76bb0253734b",
   "metadata": {},
   "outputs": [],
   "source": []
  },
  {
   "cell_type": "code",
   "execution_count": null,
   "id": "7a525852-32dc-4ceb-b4a9-78f0e1f58d11",
   "metadata": {},
   "outputs": [],
   "source": []
  },
  {
   "cell_type": "code",
   "execution_count": null,
   "id": "7d9e039d-8cf9-427b-81e8-c5ecdb7abaf1",
   "metadata": {},
   "outputs": [],
   "source": []
  },
  {
   "cell_type": "code",
   "execution_count": null,
   "id": "161f778d-bff6-4cf7-b87e-682fb3d3835b",
   "metadata": {},
   "outputs": [],
   "source": []
  },
  {
   "cell_type": "code",
   "execution_count": null,
   "id": "ee991f86-3342-4305-8ec0-6cbe6f89eac3",
   "metadata": {},
   "outputs": [],
   "source": []
  },
  {
   "cell_type": "code",
   "execution_count": null,
   "id": "b8aaba6c-c864-481c-8c40-7cd941cd13d7",
   "metadata": {},
   "outputs": [],
   "source": []
  },
  {
   "cell_type": "code",
   "execution_count": null,
   "id": "416e12b7-94a6-4f10-9eee-7cc953894bd8",
   "metadata": {},
   "outputs": [],
   "source": []
  },
  {
   "cell_type": "code",
   "execution_count": null,
   "id": "991f668d-dddb-4c8d-a17f-219ff36b806b",
   "metadata": {},
   "outputs": [],
   "source": []
  },
  {
   "cell_type": "code",
   "execution_count": null,
   "id": "3ab3c54b-ff8f-485c-a81e-f3d77b21e118",
   "metadata": {},
   "outputs": [],
   "source": []
  },
  {
   "cell_type": "code",
   "execution_count": null,
   "id": "fc638ff7-882d-4ce8-b9d2-32d819cc7ccb",
   "metadata": {},
   "outputs": [],
   "source": []
  },
  {
   "cell_type": "code",
   "execution_count": null,
   "id": "f4480056-f044-4fcf-ba6b-50f99c5f242b",
   "metadata": {},
   "outputs": [],
   "source": []
  },
  {
   "cell_type": "code",
   "execution_count": null,
   "id": "243d446a-0eba-4c2f-9e45-efc279293b7e",
   "metadata": {},
   "outputs": [],
   "source": []
  },
  {
   "cell_type": "code",
   "execution_count": null,
   "id": "9bbea45e-9853-4d37-9a3f-aa4eefef7ebd",
   "metadata": {},
   "outputs": [],
   "source": []
  },
  {
   "cell_type": "code",
   "execution_count": null,
   "id": "7d5dc4a3-cd9e-45a8-a522-20541be2b80a",
   "metadata": {},
   "outputs": [],
   "source": []
  },
  {
   "cell_type": "code",
   "execution_count": null,
   "id": "87b964ef-b87b-47df-93b1-7279fa921999",
   "metadata": {},
   "outputs": [],
   "source": []
  },
  {
   "cell_type": "code",
   "execution_count": null,
   "id": "b8550d14-a876-40e4-aa53-737327792d73",
   "metadata": {},
   "outputs": [],
   "source": []
  },
  {
   "cell_type": "code",
   "execution_count": null,
   "id": "a4a6eb9d-7619-4f2f-a052-5b8f4a2461a0",
   "metadata": {},
   "outputs": [],
   "source": []
  },
  {
   "cell_type": "code",
   "execution_count": null,
   "id": "6113f27e-e09d-4364-a1b3-2f4000c47ab7",
   "metadata": {},
   "outputs": [],
   "source": []
  },
  {
   "cell_type": "code",
   "execution_count": null,
   "id": "e8477dd8-1899-43b8-9549-84b2f2b95612",
   "metadata": {},
   "outputs": [],
   "source": []
  },
  {
   "cell_type": "code",
   "execution_count": null,
   "id": "94393b28-ebf0-47e6-98b0-b0762b519958",
   "metadata": {},
   "outputs": [],
   "source": []
  },
  {
   "cell_type": "code",
   "execution_count": null,
   "id": "448ea694-c911-426a-a39a-95d4d354ba88",
   "metadata": {},
   "outputs": [],
   "source": []
  },
  {
   "cell_type": "code",
   "execution_count": null,
   "id": "15fabc9f-8b1c-48c6-a41a-4dc9a63a067a",
   "metadata": {},
   "outputs": [],
   "source": []
  },
  {
   "cell_type": "code",
   "execution_count": null,
   "id": "34f21bb5-b652-4955-8033-9b877bf85c47",
   "metadata": {},
   "outputs": [],
   "source": []
  },
  {
   "cell_type": "code",
   "execution_count": null,
   "id": "7a2c05c6-bcb2-4a16-a786-d88ee91a7a9e",
   "metadata": {},
   "outputs": [],
   "source": []
  },
  {
   "cell_type": "code",
   "execution_count": null,
   "id": "d1b20d3a-f597-4e9f-9bd6-20b38cec094d",
   "metadata": {},
   "outputs": [],
   "source": []
  },
  {
   "cell_type": "code",
   "execution_count": null,
   "id": "2bcfc37c-47a3-4d5d-b325-1b86cf1da906",
   "metadata": {},
   "outputs": [],
   "source": []
  },
  {
   "cell_type": "code",
   "execution_count": null,
   "id": "761415bf-6347-4f61-a98e-3e01d775fdde",
   "metadata": {},
   "outputs": [],
   "source": []
  },
  {
   "cell_type": "code",
   "execution_count": null,
   "id": "b76834ca-ee51-4d45-bdf3-99d1be05a949",
   "metadata": {},
   "outputs": [],
   "source": []
  },
  {
   "cell_type": "code",
   "execution_count": null,
   "id": "adf8d47e-2679-4aae-bbb3-3679790d6dc1",
   "metadata": {},
   "outputs": [],
   "source": []
  },
  {
   "cell_type": "code",
   "execution_count": null,
   "id": "388328b8-5574-412a-a328-ebe1a8a93ddb",
   "metadata": {},
   "outputs": [],
   "source": []
  },
  {
   "cell_type": "code",
   "execution_count": null,
   "id": "af3da488-7ddd-4ac8-823f-68a39d5cd23d",
   "metadata": {},
   "outputs": [],
   "source": []
  },
  {
   "cell_type": "code",
   "execution_count": null,
   "id": "0342cef7-81ae-45df-aaaf-ab65f9ee57ec",
   "metadata": {},
   "outputs": [],
   "source": []
  },
  {
   "cell_type": "code",
   "execution_count": null,
   "id": "55d7a6d3-8ffa-45a0-b5f7-29439bbc1eb6",
   "metadata": {},
   "outputs": [],
   "source": []
  },
  {
   "cell_type": "code",
   "execution_count": null,
   "id": "b116434f-ec73-4a0b-a188-be20f27eb9ed",
   "metadata": {},
   "outputs": [],
   "source": []
  },
  {
   "cell_type": "code",
   "execution_count": null,
   "id": "ee42eafe-f392-44c6-aa80-ab02dc6a102b",
   "metadata": {},
   "outputs": [],
   "source": []
  },
  {
   "cell_type": "code",
   "execution_count": null,
   "id": "73fac1bf-3c2a-4972-8825-356f1ae7b967",
   "metadata": {},
   "outputs": [],
   "source": []
  },
  {
   "cell_type": "code",
   "execution_count": null,
   "id": "0542f22a-497d-4714-bd61-a65c64f11fa8",
   "metadata": {},
   "outputs": [],
   "source": []
  },
  {
   "cell_type": "code",
   "execution_count": null,
   "id": "d7757c71-e5b3-4705-81b0-a068eceb5456",
   "metadata": {},
   "outputs": [],
   "source": []
  },
  {
   "cell_type": "code",
   "execution_count": null,
   "id": "a6e9e9fe-eff7-4d83-8cd6-a5fa4f7e8ae0",
   "metadata": {},
   "outputs": [],
   "source": []
  },
  {
   "cell_type": "code",
   "execution_count": null,
   "id": "02d85167-7aa4-4052-8136-a28347e39c6b",
   "metadata": {},
   "outputs": [],
   "source": []
  },
  {
   "cell_type": "code",
   "execution_count": null,
   "id": "7080ed5c-57e2-4927-84e0-cf3bbd9c4ac6",
   "metadata": {},
   "outputs": [],
   "source": []
  },
  {
   "cell_type": "code",
   "execution_count": null,
   "id": "9c297e86-2961-4cd7-acf1-60f58da832c3",
   "metadata": {},
   "outputs": [],
   "source": []
  },
  {
   "cell_type": "code",
   "execution_count": null,
   "id": "b16e4769-7442-4b34-b7d1-5bc0e4ce172d",
   "metadata": {},
   "outputs": [],
   "source": []
  },
  {
   "cell_type": "code",
   "execution_count": null,
   "id": "3af953ca-3e38-4c15-b372-d8d659f92811",
   "metadata": {},
   "outputs": [],
   "source": []
  },
  {
   "cell_type": "code",
   "execution_count": null,
   "id": "9f99e53a-f073-4f20-92b7-ea01b4b6a67a",
   "metadata": {},
   "outputs": [],
   "source": []
  },
  {
   "cell_type": "code",
   "execution_count": null,
   "id": "6fb20e2b-174a-4fb7-a5d9-c2c73a019d05",
   "metadata": {},
   "outputs": [],
   "source": []
  },
  {
   "cell_type": "code",
   "execution_count": null,
   "id": "4b6fec94-4ac5-4879-ba16-03ae94585d23",
   "metadata": {},
   "outputs": [],
   "source": []
  },
  {
   "cell_type": "code",
   "execution_count": null,
   "id": "2ad3a9ca-d383-4493-972f-c57528f5dd2c",
   "metadata": {},
   "outputs": [],
   "source": []
  },
  {
   "cell_type": "code",
   "execution_count": null,
   "id": "b35ff605-7734-4726-b67e-5d8118f9e341",
   "metadata": {},
   "outputs": [],
   "source": []
  },
  {
   "cell_type": "code",
   "execution_count": null,
   "id": "0acc2bc4-67f8-4729-952b-f93d550413ea",
   "metadata": {},
   "outputs": [],
   "source": []
  },
  {
   "cell_type": "code",
   "execution_count": null,
   "id": "6104f062-fa5d-458d-8852-ea666e78066c",
   "metadata": {},
   "outputs": [],
   "source": []
  },
  {
   "cell_type": "code",
   "execution_count": null,
   "id": "30bc0053-2297-46a1-997c-16655548cefa",
   "metadata": {},
   "outputs": [],
   "source": []
  },
  {
   "cell_type": "code",
   "execution_count": null,
   "id": "9e48201e-2cd7-4a6e-a15a-d8ed67df7024",
   "metadata": {},
   "outputs": [],
   "source": []
  },
  {
   "cell_type": "code",
   "execution_count": null,
   "id": "f9d13bdb-eb4b-4ef8-b017-2d2f4221eaf8",
   "metadata": {},
   "outputs": [],
   "source": []
  },
  {
   "cell_type": "code",
   "execution_count": null,
   "id": "42ef09b3-604d-4187-8cce-d373d14101e9",
   "metadata": {},
   "outputs": [],
   "source": []
  },
  {
   "cell_type": "code",
   "execution_count": null,
   "id": "0c6522b5-18fa-4e30-b385-c465901b0194",
   "metadata": {},
   "outputs": [],
   "source": []
  },
  {
   "cell_type": "code",
   "execution_count": null,
   "id": "78fc8562-d18d-4239-a714-9f551ae5a7d3",
   "metadata": {},
   "outputs": [],
   "source": []
  },
  {
   "cell_type": "code",
   "execution_count": null,
   "id": "f4b00dc7-855f-41e8-8083-f285b647f438",
   "metadata": {},
   "outputs": [],
   "source": []
  },
  {
   "cell_type": "code",
   "execution_count": null,
   "id": "e698d266-3943-4c65-bdac-ab50d2e1622b",
   "metadata": {},
   "outputs": [],
   "source": []
  },
  {
   "cell_type": "code",
   "execution_count": null,
   "id": "c80d590c-40b6-4016-b083-df41bac80148",
   "metadata": {},
   "outputs": [],
   "source": []
  },
  {
   "cell_type": "code",
   "execution_count": null,
   "id": "39df1157-c07b-4937-9bac-4c2c8f8f64e7",
   "metadata": {},
   "outputs": [],
   "source": []
  },
  {
   "cell_type": "code",
   "execution_count": null,
   "id": "ce53684a-8aa9-4857-acf8-b4049a26460f",
   "metadata": {},
   "outputs": [],
   "source": []
  },
  {
   "cell_type": "code",
   "execution_count": null,
   "id": "9e08cf9b-2c6f-4420-acc7-92916829def8",
   "metadata": {},
   "outputs": [],
   "source": []
  },
  {
   "cell_type": "code",
   "execution_count": null,
   "id": "3536a5a6-c078-47aa-90c6-011019ee0ddf",
   "metadata": {},
   "outputs": [],
   "source": []
  },
  {
   "cell_type": "code",
   "execution_count": null,
   "id": "0eed36cc-14dd-4908-a569-e3c62683eca2",
   "metadata": {},
   "outputs": [],
   "source": []
  },
  {
   "cell_type": "code",
   "execution_count": null,
   "id": "781a64db-369e-40a8-ae0f-795f02c1b76f",
   "metadata": {},
   "outputs": [],
   "source": []
  },
  {
   "cell_type": "code",
   "execution_count": null,
   "id": "66a8b80e-b488-4948-80bd-7acfb2729750",
   "metadata": {},
   "outputs": [],
   "source": []
  },
  {
   "cell_type": "code",
   "execution_count": null,
   "id": "d81bfd7f-1149-4a57-b8a8-96029aa7da1b",
   "metadata": {},
   "outputs": [],
   "source": []
  },
  {
   "cell_type": "code",
   "execution_count": null,
   "id": "3d30518a-ed4d-4c9f-8d26-ebee00697938",
   "metadata": {},
   "outputs": [],
   "source": []
  },
  {
   "cell_type": "code",
   "execution_count": null,
   "id": "96ac12f9-6919-41c2-bdaf-576c7f8ad8ec",
   "metadata": {},
   "outputs": [],
   "source": []
  },
  {
   "cell_type": "code",
   "execution_count": null,
   "id": "a971dc19-5eb7-4b3b-99f0-aa4eafceb210",
   "metadata": {},
   "outputs": [],
   "source": []
  },
  {
   "cell_type": "code",
   "execution_count": null,
   "id": "f1a14244-534d-4c58-83b6-2e7b7434cb4f",
   "metadata": {},
   "outputs": [],
   "source": []
  },
  {
   "cell_type": "code",
   "execution_count": null,
   "id": "8f6bea72-e066-4edc-bca1-27c5a55e9131",
   "metadata": {},
   "outputs": [],
   "source": []
  },
  {
   "cell_type": "code",
   "execution_count": null,
   "id": "763954d4-18be-4db8-9d01-fe6526ab42bf",
   "metadata": {},
   "outputs": [],
   "source": []
  },
  {
   "cell_type": "code",
   "execution_count": null,
   "id": "e2103b29-fad2-4736-8775-f143e99e007f",
   "metadata": {},
   "outputs": [],
   "source": []
  },
  {
   "cell_type": "code",
   "execution_count": null,
   "id": "88872395-cfb5-4bcc-a1ce-4a625a07a3c9",
   "metadata": {},
   "outputs": [],
   "source": []
  },
  {
   "cell_type": "code",
   "execution_count": null,
   "id": "91a9bc2d-5f9b-4851-b0a7-1c37d124a004",
   "metadata": {},
   "outputs": [],
   "source": []
  },
  {
   "cell_type": "code",
   "execution_count": null,
   "id": "6f115024-02cf-4ba1-811f-3599a24d6193",
   "metadata": {},
   "outputs": [],
   "source": []
  },
  {
   "cell_type": "code",
   "execution_count": null,
   "id": "3aa3b5b0-c473-4ae3-95c4-842bff4b3dfc",
   "metadata": {},
   "outputs": [],
   "source": []
  },
  {
   "cell_type": "code",
   "execution_count": null,
   "id": "79144b41-dfa2-4b88-b2b6-5355a19ce9a2",
   "metadata": {},
   "outputs": [],
   "source": []
  },
  {
   "cell_type": "code",
   "execution_count": null,
   "id": "65c4f34e-0244-4b83-ae77-84393d317230",
   "metadata": {},
   "outputs": [],
   "source": []
  },
  {
   "cell_type": "code",
   "execution_count": null,
   "id": "400d894a-c10d-42c4-a795-8be679e72bdc",
   "metadata": {},
   "outputs": [],
   "source": []
  },
  {
   "cell_type": "code",
   "execution_count": null,
   "id": "cd807819-7e4c-4d12-b6df-49478a1e6599",
   "metadata": {},
   "outputs": [],
   "source": []
  },
  {
   "cell_type": "code",
   "execution_count": null,
   "id": "d58ba7d2-2412-4d69-bb32-a575ce73f5bb",
   "metadata": {},
   "outputs": [],
   "source": []
  },
  {
   "cell_type": "code",
   "execution_count": null,
   "id": "af98e6fe-72db-464e-954d-3a5d2b907cea",
   "metadata": {},
   "outputs": [],
   "source": []
  },
  {
   "cell_type": "code",
   "execution_count": null,
   "id": "9cad0914-fb9c-4980-bc31-c4b415a454b3",
   "metadata": {},
   "outputs": [],
   "source": []
  },
  {
   "cell_type": "code",
   "execution_count": null,
   "id": "289cfc93-2fda-44ff-921b-0d23603a6521",
   "metadata": {},
   "outputs": [],
   "source": []
  },
  {
   "cell_type": "code",
   "execution_count": null,
   "id": "0901e43b-8679-401d-b981-f4a33e142c27",
   "metadata": {},
   "outputs": [],
   "source": []
  },
  {
   "cell_type": "code",
   "execution_count": null,
   "id": "5164dd2d-1223-4f60-a7dc-31eb3453f171",
   "metadata": {},
   "outputs": [],
   "source": []
  },
  {
   "cell_type": "code",
   "execution_count": null,
   "id": "fb42563a-9ffd-4512-b859-27af0f770605",
   "metadata": {},
   "outputs": [],
   "source": []
  },
  {
   "cell_type": "code",
   "execution_count": null,
   "id": "15aeeda0-9cc1-49b8-8b7c-7506d8523718",
   "metadata": {},
   "outputs": [],
   "source": []
  },
  {
   "cell_type": "code",
   "execution_count": null,
   "id": "f548ea37-f2f8-4bc0-940d-37919baa4627",
   "metadata": {},
   "outputs": [],
   "source": []
  },
  {
   "cell_type": "code",
   "execution_count": null,
   "id": "4a434831-312f-4954-9ef6-654472b4bbc7",
   "metadata": {},
   "outputs": [],
   "source": []
  },
  {
   "cell_type": "code",
   "execution_count": null,
   "id": "2c18d34e-de5e-4852-bf5f-e604caa56e59",
   "metadata": {},
   "outputs": [],
   "source": []
  },
  {
   "cell_type": "code",
   "execution_count": null,
   "id": "a1206ebc-17cc-4b59-b361-a118f4a17dea",
   "metadata": {},
   "outputs": [],
   "source": []
  },
  {
   "cell_type": "code",
   "execution_count": null,
   "id": "ec05dbba-3902-4cd4-993e-2be0ee0e1eeb",
   "metadata": {},
   "outputs": [],
   "source": []
  },
  {
   "cell_type": "code",
   "execution_count": null,
   "id": "af8ce807-47aa-47b2-8dc2-c7741292330f",
   "metadata": {},
   "outputs": [],
   "source": []
  },
  {
   "cell_type": "code",
   "execution_count": null,
   "id": "30217460-3968-487d-8560-8d837175cbe7",
   "metadata": {},
   "outputs": [],
   "source": []
  },
  {
   "cell_type": "code",
   "execution_count": null,
   "id": "b614dde2-91af-4329-a8df-5f5c0cac23b2",
   "metadata": {},
   "outputs": [],
   "source": []
  },
  {
   "cell_type": "code",
   "execution_count": null,
   "id": "ec33a45b-e790-4bc0-8236-bb1b8cecdfa5",
   "metadata": {},
   "outputs": [],
   "source": []
  },
  {
   "cell_type": "code",
   "execution_count": null,
   "id": "b7142432-b5ed-4c7a-9e10-96e2c35ac39d",
   "metadata": {},
   "outputs": [],
   "source": []
  },
  {
   "cell_type": "code",
   "execution_count": null,
   "id": "873ae33b-58b7-48ef-9f25-eb3f37bee2d5",
   "metadata": {},
   "outputs": [],
   "source": []
  },
  {
   "cell_type": "code",
   "execution_count": null,
   "id": "9d67c36a-a345-48c3-8cea-880d96b5d95d",
   "metadata": {},
   "outputs": [],
   "source": []
  },
  {
   "cell_type": "code",
   "execution_count": null,
   "id": "c82dce95-ef8e-411b-a554-49e7205a877c",
   "metadata": {},
   "outputs": [],
   "source": []
  },
  {
   "cell_type": "code",
   "execution_count": null,
   "id": "51fe2674-7abf-41ad-8985-dba7b4a5589d",
   "metadata": {},
   "outputs": [],
   "source": []
  },
  {
   "cell_type": "code",
   "execution_count": null,
   "id": "95acc586-58a2-4576-9f87-4c19889e2d87",
   "metadata": {},
   "outputs": [],
   "source": []
  },
  {
   "cell_type": "code",
   "execution_count": null,
   "id": "e83bca27-e82c-4b70-9b37-c266122464b0",
   "metadata": {},
   "outputs": [],
   "source": []
  },
  {
   "cell_type": "code",
   "execution_count": null,
   "id": "75bc39e3-d47a-4f83-b79f-8cbf4bc5d939",
   "metadata": {},
   "outputs": [],
   "source": []
  },
  {
   "cell_type": "code",
   "execution_count": null,
   "id": "79948068-6f38-4945-a79e-6b279b0dda06",
   "metadata": {},
   "outputs": [],
   "source": []
  },
  {
   "cell_type": "code",
   "execution_count": null,
   "id": "50ff1a0f-2eb8-4534-9e46-97593043c308",
   "metadata": {},
   "outputs": [],
   "source": []
  },
  {
   "cell_type": "code",
   "execution_count": null,
   "id": "c643a7a2-0bfc-4dfc-a2c4-71f4ae843ca1",
   "metadata": {},
   "outputs": [],
   "source": []
  },
  {
   "cell_type": "code",
   "execution_count": null,
   "id": "10d00134-316d-4533-9c12-eeacee67b3f9",
   "metadata": {},
   "outputs": [],
   "source": []
  },
  {
   "cell_type": "code",
   "execution_count": null,
   "id": "9299fbd9-27f7-4c30-8b43-3be3a3627a76",
   "metadata": {},
   "outputs": [],
   "source": []
  }
 ],
 "metadata": {
  "kernelspec": {
   "display_name": "Python 3 (ipykernel)",
   "language": "python",
   "name": "python3"
  },
  "language_info": {
   "codemirror_mode": {
    "name": "ipython",
    "version": 3
   },
   "file_extension": ".py",
   "mimetype": "text/x-python",
   "name": "python",
   "nbconvert_exporter": "python",
   "pygments_lexer": "ipython3",
   "version": "3.12.2"
  }
 },
 "nbformat": 4,
 "nbformat_minor": 5
}
